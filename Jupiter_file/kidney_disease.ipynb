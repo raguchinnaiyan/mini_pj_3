{
 "cells": [
  {
   "cell_type": "code",
   "execution_count": 2,
   "id": "d3473231-6a04-413d-9b7b-f27174a96ff9",
   "metadata": {},
   "outputs": [
    {
     "name": "stdout",
     "output_type": "stream",
     "text": [
      "Requirement already satisfied: scikit-learn in c:\\users\\ragu\\anaconda3\\lib\\site-packages (1.4.2)\n",
      "Requirement already satisfied: numpy>=1.19.5 in c:\\users\\ragu\\anaconda3\\lib\\site-packages (from scikit-learn) (1.26.4)\n",
      "Requirement already satisfied: scipy>=1.6.0 in c:\\users\\ragu\\anaconda3\\lib\\site-packages (from scikit-learn) (1.11.4)\n",
      "Requirement already satisfied: joblib>=1.2.0 in c:\\users\\ragu\\anaconda3\\lib\\site-packages (from scikit-learn) (1.3.2)\n",
      "Requirement already satisfied: threadpoolctl>=2.0.0 in c:\\users\\ragu\\anaconda3\\lib\\site-packages (from scikit-learn) (3.5.0)\n"
     ]
    }
   ],
   "source": [
    "!pip install scikit-learn"
   ]
  },
  {
   "cell_type": "code",
   "execution_count": 6,
   "id": "42efe36b-6abd-4683-a65b-fa852894a938",
   "metadata": {},
   "outputs": [],
   "source": [
    "import pandas as pd\n",
    "import numpy as np\n",
    "import matplotlib.pyplot as plt\n",
    "import seaborn as sns\n",
    "from sklearn.preprocessing import MinMaxScaler, StandardScaler \n",
    "from sklearn.metrics import accuracy_score, classification_report\n",
    "from sklearn.feature_selection import mutual_info_classif"
   ]
  },
  {
   "cell_type": "code",
   "execution_count": 7,
   "id": "715dbd0c-6a21-4c1e-8853-cc79dc3c5148",
   "metadata": {},
   "outputs": [],
   "source": [
    "from imblearn.over_sampling import SMOTE\n",
    "from imblearn.under_sampling import RandomUnderSampler\n",
    "from imblearn.pipeline import Pipeline\n",
    "from sklearn.model_selection import train_test_split"
   ]
  },
  {
   "cell_type": "code",
   "execution_count": 39,
   "id": "684b70e2-eb66-4c6d-8d0b-f5506be09096",
   "metadata": {},
   "outputs": [],
   "source": [
    "import joblib\n",
    "from sklearn.ensemble import RandomForestClassifier\n",
    "from sklearn.linear_model import LogisticRegression\n",
    "from sklearn.preprocessing import LabelEncoder"
   ]
  },
  {
   "cell_type": "code",
   "execution_count": 13,
   "id": "864fd121-bb82-4a3d-8438-764bb2ead4d6",
   "metadata": {},
   "outputs": [],
   "source": [
    "df=pd.read_csv(\"C:/Users/ragu/Min_pj_3/kidney_disease - kidney_disease.csv\")"
   ]
  },
  {
   "cell_type": "code",
   "execution_count": 43,
   "id": "6333fac4-ddbc-4bec-a159-dec142a6b291",
   "metadata": {},
   "outputs": [
    {
     "data": {
      "text/html": [
       "<div>\n",
       "<style scoped>\n",
       "    .dataframe tbody tr th:only-of-type {\n",
       "        vertical-align: middle;\n",
       "    }\n",
       "\n",
       "    .dataframe tbody tr th {\n",
       "        vertical-align: top;\n",
       "    }\n",
       "\n",
       "    .dataframe thead th {\n",
       "        text-align: right;\n",
       "    }\n",
       "</style>\n",
       "<table border=\"1\" class=\"dataframe\">\n",
       "  <thead>\n",
       "    <tr style=\"text-align: right;\">\n",
       "      <th></th>\n",
       "      <th>id</th>\n",
       "      <th>age</th>\n",
       "      <th>bp</th>\n",
       "      <th>sg</th>\n",
       "      <th>al</th>\n",
       "      <th>su</th>\n",
       "      <th>rbc</th>\n",
       "      <th>pc</th>\n",
       "      <th>pcc</th>\n",
       "      <th>ba</th>\n",
       "      <th>bgr</th>\n",
       "      <th>bu</th>\n",
       "      <th>sc</th>\n",
       "      <th>sod</th>\n",
       "      <th>pot</th>\n",
       "      <th>hemo</th>\n",
       "      <th>pcv</th>\n",
       "      <th>wc</th>\n",
       "      <th>rc</th>\n",
       "      <th>htn</th>\n",
       "      <th>dm</th>\n",
       "      <th>cad</th>\n",
       "      <th>appet</th>\n",
       "      <th>pe</th>\n",
       "      <th>ane</th>\n",
       "      <th>classification</th>\n",
       "    </tr>\n",
       "  </thead>\n",
       "  <tbody>\n",
       "    <tr>\n",
       "      <th>0</th>\n",
       "      <td>0</td>\n",
       "      <td>48.0</td>\n",
       "      <td>80.0</td>\n",
       "      <td>1.020</td>\n",
       "      <td>1.0</td>\n",
       "      <td>0.0</td>\n",
       "      <td>1</td>\n",
       "      <td>1</td>\n",
       "      <td>0</td>\n",
       "      <td>0</td>\n",
       "      <td>121.0</td>\n",
       "      <td>36.0</td>\n",
       "      <td>1.2</td>\n",
       "      <td>138.0</td>\n",
       "      <td>4.4</td>\n",
       "      <td>15.4</td>\n",
       "      <td>44.0</td>\n",
       "      <td>7800.0</td>\n",
       "      <td>5.2</td>\n",
       "      <td>1</td>\n",
       "      <td>1</td>\n",
       "      <td>0</td>\n",
       "      <td>0</td>\n",
       "      <td>0</td>\n",
       "      <td>0</td>\n",
       "      <td>0</td>\n",
       "    </tr>\n",
       "    <tr>\n",
       "      <th>1</th>\n",
       "      <td>1</td>\n",
       "      <td>7.0</td>\n",
       "      <td>50.0</td>\n",
       "      <td>1.020</td>\n",
       "      <td>4.0</td>\n",
       "      <td>0.0</td>\n",
       "      <td>1</td>\n",
       "      <td>1</td>\n",
       "      <td>0</td>\n",
       "      <td>0</td>\n",
       "      <td>121.0</td>\n",
       "      <td>18.0</td>\n",
       "      <td>0.8</td>\n",
       "      <td>138.0</td>\n",
       "      <td>4.4</td>\n",
       "      <td>11.3</td>\n",
       "      <td>38.0</td>\n",
       "      <td>6000.0</td>\n",
       "      <td>5.2</td>\n",
       "      <td>0</td>\n",
       "      <td>0</td>\n",
       "      <td>0</td>\n",
       "      <td>0</td>\n",
       "      <td>0</td>\n",
       "      <td>0</td>\n",
       "      <td>0</td>\n",
       "    </tr>\n",
       "    <tr>\n",
       "      <th>2</th>\n",
       "      <td>2</td>\n",
       "      <td>62.0</td>\n",
       "      <td>80.0</td>\n",
       "      <td>1.010</td>\n",
       "      <td>2.0</td>\n",
       "      <td>3.0</td>\n",
       "      <td>1</td>\n",
       "      <td>1</td>\n",
       "      <td>0</td>\n",
       "      <td>0</td>\n",
       "      <td>423.0</td>\n",
       "      <td>53.0</td>\n",
       "      <td>1.8</td>\n",
       "      <td>138.0</td>\n",
       "      <td>4.4</td>\n",
       "      <td>9.6</td>\n",
       "      <td>31.0</td>\n",
       "      <td>7500.0</td>\n",
       "      <td>5.2</td>\n",
       "      <td>0</td>\n",
       "      <td>1</td>\n",
       "      <td>0</td>\n",
       "      <td>1</td>\n",
       "      <td>0</td>\n",
       "      <td>1</td>\n",
       "      <td>0</td>\n",
       "    </tr>\n",
       "    <tr>\n",
       "      <th>3</th>\n",
       "      <td>3</td>\n",
       "      <td>48.0</td>\n",
       "      <td>70.0</td>\n",
       "      <td>1.005</td>\n",
       "      <td>4.0</td>\n",
       "      <td>0.0</td>\n",
       "      <td>1</td>\n",
       "      <td>0</td>\n",
       "      <td>1</td>\n",
       "      <td>0</td>\n",
       "      <td>117.0</td>\n",
       "      <td>56.0</td>\n",
       "      <td>3.8</td>\n",
       "      <td>111.0</td>\n",
       "      <td>2.5</td>\n",
       "      <td>11.2</td>\n",
       "      <td>32.0</td>\n",
       "      <td>6700.0</td>\n",
       "      <td>3.9</td>\n",
       "      <td>1</td>\n",
       "      <td>0</td>\n",
       "      <td>0</td>\n",
       "      <td>1</td>\n",
       "      <td>1</td>\n",
       "      <td>1</td>\n",
       "      <td>0</td>\n",
       "    </tr>\n",
       "    <tr>\n",
       "      <th>4</th>\n",
       "      <td>4</td>\n",
       "      <td>51.0</td>\n",
       "      <td>80.0</td>\n",
       "      <td>1.010</td>\n",
       "      <td>2.0</td>\n",
       "      <td>0.0</td>\n",
       "      <td>1</td>\n",
       "      <td>1</td>\n",
       "      <td>0</td>\n",
       "      <td>0</td>\n",
       "      <td>106.0</td>\n",
       "      <td>26.0</td>\n",
       "      <td>1.4</td>\n",
       "      <td>138.0</td>\n",
       "      <td>4.4</td>\n",
       "      <td>11.6</td>\n",
       "      <td>35.0</td>\n",
       "      <td>7300.0</td>\n",
       "      <td>4.6</td>\n",
       "      <td>0</td>\n",
       "      <td>0</td>\n",
       "      <td>0</td>\n",
       "      <td>0</td>\n",
       "      <td>0</td>\n",
       "      <td>0</td>\n",
       "      <td>0</td>\n",
       "    </tr>\n",
       "  </tbody>\n",
       "</table>\n",
       "</div>"
      ],
      "text/plain": [
       "   id   age    bp     sg   al   su  rbc  pc  pcc  ba    bgr    bu   sc    sod  \\\n",
       "0   0  48.0  80.0  1.020  1.0  0.0    1   1    0   0  121.0  36.0  1.2  138.0   \n",
       "1   1   7.0  50.0  1.020  4.0  0.0    1   1    0   0  121.0  18.0  0.8  138.0   \n",
       "2   2  62.0  80.0  1.010  2.0  3.0    1   1    0   0  423.0  53.0  1.8  138.0   \n",
       "3   3  48.0  70.0  1.005  4.0  0.0    1   0    1   0  117.0  56.0  3.8  111.0   \n",
       "4   4  51.0  80.0  1.010  2.0  0.0    1   1    0   0  106.0  26.0  1.4  138.0   \n",
       "\n",
       "   pot  hemo   pcv      wc   rc  htn  dm  cad  appet  pe  ane  classification  \n",
       "0  4.4  15.4  44.0  7800.0  5.2    1   1    0      0   0    0               0  \n",
       "1  4.4  11.3  38.0  6000.0  5.2    0   0    0      0   0    0               0  \n",
       "2  4.4   9.6  31.0  7500.0  5.2    0   1    0      1   0    1               0  \n",
       "3  2.5  11.2  32.0  6700.0  3.9    1   0    0      1   1    1               0  \n",
       "4  4.4  11.6  35.0  7300.0  4.6    0   0    0      0   0    0               0  "
      ]
     },
     "execution_count": 43,
     "metadata": {},
     "output_type": "execute_result"
    }
   ],
   "source": [
    "df.head()"
   ]
  },
  {
   "cell_type": "code",
   "execution_count": 35,
   "id": "217f0fdd-e246-43c6-aab6-2fba9e16bfa6",
   "metadata": {
    "collapsed": true,
    "jupyter": {
     "outputs_hidden": true
    },
    "scrolled": true
   },
   "outputs": [
    {
     "name": "stdout",
     "output_type": "stream",
     "text": [
      "   id   age    bp     sg   al   su     rbc        pc         pcc          ba  \\\n",
      "0   0  48.0  80.0  1.020  1.0  0.0  normal    normal  notpresent  notpresent   \n",
      "1   1   7.0  50.0  1.020  4.0  0.0  normal    normal  notpresent  notpresent   \n",
      "2   2  62.0  80.0  1.010  2.0  3.0  normal    normal  notpresent  notpresent   \n",
      "3   3  48.0  70.0  1.005  4.0  0.0  normal  abnormal     present  notpresent   \n",
      "4   4  51.0  80.0  1.010  2.0  0.0  normal    normal  notpresent  notpresent   \n",
      "\n",
      "     bgr    bu   sc    sod  pot  hemo pcv    wc   rc  htn   dm cad appet   pe  \\\n",
      "0  121.0  36.0  1.2  138.0  4.4  15.4  44  7800  5.2  yes  yes  no  good   no   \n",
      "1  121.0  18.0  0.8  138.0  4.4  11.3  38  6000  5.2   no   no  no  good   no   \n",
      "2  423.0  53.0  1.8  138.0  4.4   9.6  31  7500  5.2   no  yes  no  poor   no   \n",
      "3  117.0  56.0  3.8  111.0  2.5  11.2  32  6700  3.9  yes   no  no  poor  yes   \n",
      "4  106.0  26.0  1.4  138.0  4.4  11.6  35  7300  4.6   no   no  no  good   no   \n",
      "\n",
      "   ane classification  \n",
      "0   no            ckd  \n",
      "1   no            ckd  \n",
      "2  yes            ckd  \n",
      "3  yes            ckd  \n",
      "4   no            ckd  \n"
     ]
    }
   ],
   "source": [
    "# Show all columns\n",
    "pd.set_option('display.max_columns', None)  \n",
    "print(df.head())"
   ]
  },
  {
   "cell_type": "code",
   "execution_count": null,
   "id": "55da696b-01e4-4ba8-b875-a5398a54acd6",
   "metadata": {},
   "outputs": [],
   "source": [
    "# EDA "
   ]
  },
  {
   "cell_type": "code",
   "execution_count": 23,
   "id": "e82e765e-08b1-4d1f-b261-0e153b29254b",
   "metadata": {
    "collapsed": true,
    "jupyter": {
     "outputs_hidden": true
    }
   },
   "outputs": [
    {
     "data": {
      "text/plain": [
       "id                  0\n",
       "age                 9\n",
       "bp                 12\n",
       "sg                 47\n",
       "al                 46\n",
       "su                 49\n",
       "rbc               152\n",
       "pc                 65\n",
       "pcc                 4\n",
       "ba                  4\n",
       "bgr                44\n",
       "bu                 19\n",
       "sc                 17\n",
       "sod                87\n",
       "pot                88\n",
       "hemo               52\n",
       "pcv                70\n",
       "wc                105\n",
       "rc                130\n",
       "htn                 2\n",
       "dm                  2\n",
       "cad                 2\n",
       "appet               1\n",
       "pe                  1\n",
       "ane                 1\n",
       "classification      0\n",
       "dtype: int64"
      ]
     },
     "execution_count": 23,
     "metadata": {},
     "output_type": "execute_result"
    }
   ],
   "source": [
    "df.isnull().sum()"
   ]
  },
  {
   "cell_type": "code",
   "execution_count": 28,
   "id": "8156bef8-1c49-46ad-89d2-34bff6cd68ad",
   "metadata": {},
   "outputs": [],
   "source": [
    "#filling mode for categorical columns \n",
    "categorical_cols = df.select_dtypes(include=['object']).columns\n",
    "df[categorical_cols] = df[categorical_cols].apply(lambda x: x.fillna(x.mode()[0]))"
   ]
  },
  {
   "cell_type": "code",
   "execution_count": 30,
   "id": "f297b272-2aac-4337-ad28-6e2b4892b528",
   "metadata": {},
   "outputs": [],
   "source": [
    "#filling median for numerical coloumns \n",
    "numerical_cols = df.select_dtypes(include=['number']).columns\n",
    "df[numerical_cols] = df[numerical_cols].apply(lambda x: x.fillna(x.median()))"
   ]
  },
  {
   "cell_type": "code",
   "execution_count": 34,
   "id": "e9647f96-6a17-4128-af15-3316035e2308",
   "metadata": {
    "collapsed": true,
    "jupyter": {
     "outputs_hidden": true
    }
   },
   "outputs": [
    {
     "data": {
      "text/plain": [
       "id                0\n",
       "age               0\n",
       "bp                0\n",
       "sg                0\n",
       "al                0\n",
       "su                0\n",
       "rbc               0\n",
       "pc                0\n",
       "pcc               0\n",
       "ba                0\n",
       "bgr               0\n",
       "bu                0\n",
       "sc                0\n",
       "sod               0\n",
       "pot               0\n",
       "hemo              0\n",
       "pcv               0\n",
       "wc                0\n",
       "rc                0\n",
       "htn               0\n",
       "dm                0\n",
       "cad               0\n",
       "appet             0\n",
       "pe                0\n",
       "ane               0\n",
       "classification    0\n",
       "dtype: int64"
      ]
     },
     "execution_count": 34,
     "metadata": {},
     "output_type": "execute_result"
    }
   ],
   "source": [
    "#secon check for null values\n",
    "df.isnull().sum()"
   ]
  },
  {
   "cell_type": "code",
   "execution_count": 31,
   "id": "ceda04bf-0cc4-432a-8cde-e2e02e27e4fb",
   "metadata": {},
   "outputs": [
    {
     "data": {
      "text/plain": [
       "(400, 26)"
      ]
     },
     "execution_count": 31,
     "metadata": {},
     "output_type": "execute_result"
    }
   ],
   "source": [
    "df.shape"
   ]
  },
  {
   "cell_type": "code",
   "execution_count": 32,
   "id": "d3d199e3-7082-4320-879f-32145db14ceb",
   "metadata": {
    "collapsed": true,
    "jupyter": {
     "outputs_hidden": true
    },
    "scrolled": true
   },
   "outputs": [
    {
     "name": "stdout",
     "output_type": "stream",
     "text": [
      "<class 'pandas.core.frame.DataFrame'>\n",
      "RangeIndex: 400 entries, 0 to 399\n",
      "Data columns (total 26 columns):\n",
      " #   Column          Non-Null Count  Dtype  \n",
      "---  ------          --------------  -----  \n",
      " 0   id              400 non-null    int64  \n",
      " 1   age             400 non-null    float64\n",
      " 2   bp              400 non-null    float64\n",
      " 3   sg              400 non-null    float64\n",
      " 4   al              400 non-null    float64\n",
      " 5   su              400 non-null    float64\n",
      " 6   rbc             400 non-null    object \n",
      " 7   pc              400 non-null    object \n",
      " 8   pcc             400 non-null    object \n",
      " 9   ba              400 non-null    object \n",
      " 10  bgr             400 non-null    float64\n",
      " 11  bu              400 non-null    float64\n",
      " 12  sc              400 non-null    float64\n",
      " 13  sod             400 non-null    float64\n",
      " 14  pot             400 non-null    float64\n",
      " 15  hemo            400 non-null    float64\n",
      " 16  pcv             400 non-null    object \n",
      " 17  wc              400 non-null    object \n",
      " 18  rc              400 non-null    object \n",
      " 19  htn             400 non-null    object \n",
      " 20  dm              400 non-null    object \n",
      " 21  cad             400 non-null    object \n",
      " 22  appet           400 non-null    object \n",
      " 23  pe              400 non-null    object \n",
      " 24  ane             400 non-null    object \n",
      " 25  classification  400 non-null    object \n",
      "dtypes: float64(11), int64(1), object(14)\n",
      "memory usage: 81.4+ KB\n"
     ]
    }
   ],
   "source": [
    "df.info()"
   ]
  },
  {
   "cell_type": "code",
   "execution_count": 19,
   "id": "c770525f-2db5-481c-a107-2c6131831a0a",
   "metadata": {
    "collapsed": true,
    "jupyter": {
     "outputs_hidden": true
    },
    "scrolled": true
   },
   "outputs": [
    {
     "data": {
      "text/html": [
       "<div>\n",
       "<style scoped>\n",
       "    .dataframe tbody tr th:only-of-type {\n",
       "        vertical-align: middle;\n",
       "    }\n",
       "\n",
       "    .dataframe tbody tr th {\n",
       "        vertical-align: top;\n",
       "    }\n",
       "\n",
       "    .dataframe thead th {\n",
       "        text-align: right;\n",
       "    }\n",
       "</style>\n",
       "<table border=\"1\" class=\"dataframe\">\n",
       "  <thead>\n",
       "    <tr style=\"text-align: right;\">\n",
       "      <th></th>\n",
       "      <th>id</th>\n",
       "      <th>age</th>\n",
       "      <th>bp</th>\n",
       "      <th>sg</th>\n",
       "      <th>al</th>\n",
       "      <th>su</th>\n",
       "      <th>bgr</th>\n",
       "      <th>bu</th>\n",
       "      <th>sc</th>\n",
       "      <th>sod</th>\n",
       "      <th>pot</th>\n",
       "      <th>hemo</th>\n",
       "    </tr>\n",
       "  </thead>\n",
       "  <tbody>\n",
       "    <tr>\n",
       "      <th>count</th>\n",
       "      <td>400.000000</td>\n",
       "      <td>391.000000</td>\n",
       "      <td>388.000000</td>\n",
       "      <td>353.000000</td>\n",
       "      <td>354.000000</td>\n",
       "      <td>351.000000</td>\n",
       "      <td>356.000000</td>\n",
       "      <td>381.000000</td>\n",
       "      <td>383.000000</td>\n",
       "      <td>313.000000</td>\n",
       "      <td>312.000000</td>\n",
       "      <td>348.000000</td>\n",
       "    </tr>\n",
       "    <tr>\n",
       "      <th>mean</th>\n",
       "      <td>199.500000</td>\n",
       "      <td>51.483376</td>\n",
       "      <td>76.469072</td>\n",
       "      <td>1.017408</td>\n",
       "      <td>1.016949</td>\n",
       "      <td>0.450142</td>\n",
       "      <td>148.036517</td>\n",
       "      <td>57.425722</td>\n",
       "      <td>3.072454</td>\n",
       "      <td>137.528754</td>\n",
       "      <td>4.627244</td>\n",
       "      <td>12.526437</td>\n",
       "    </tr>\n",
       "    <tr>\n",
       "      <th>std</th>\n",
       "      <td>115.614301</td>\n",
       "      <td>17.169714</td>\n",
       "      <td>13.683637</td>\n",
       "      <td>0.005717</td>\n",
       "      <td>1.352679</td>\n",
       "      <td>1.099191</td>\n",
       "      <td>79.281714</td>\n",
       "      <td>50.503006</td>\n",
       "      <td>5.741126</td>\n",
       "      <td>10.408752</td>\n",
       "      <td>3.193904</td>\n",
       "      <td>2.912587</td>\n",
       "    </tr>\n",
       "    <tr>\n",
       "      <th>min</th>\n",
       "      <td>0.000000</td>\n",
       "      <td>2.000000</td>\n",
       "      <td>50.000000</td>\n",
       "      <td>1.005000</td>\n",
       "      <td>0.000000</td>\n",
       "      <td>0.000000</td>\n",
       "      <td>22.000000</td>\n",
       "      <td>1.500000</td>\n",
       "      <td>0.400000</td>\n",
       "      <td>4.500000</td>\n",
       "      <td>2.500000</td>\n",
       "      <td>3.100000</td>\n",
       "    </tr>\n",
       "    <tr>\n",
       "      <th>25%</th>\n",
       "      <td>99.750000</td>\n",
       "      <td>42.000000</td>\n",
       "      <td>70.000000</td>\n",
       "      <td>1.010000</td>\n",
       "      <td>0.000000</td>\n",
       "      <td>0.000000</td>\n",
       "      <td>99.000000</td>\n",
       "      <td>27.000000</td>\n",
       "      <td>0.900000</td>\n",
       "      <td>135.000000</td>\n",
       "      <td>3.800000</td>\n",
       "      <td>10.300000</td>\n",
       "    </tr>\n",
       "    <tr>\n",
       "      <th>50%</th>\n",
       "      <td>199.500000</td>\n",
       "      <td>55.000000</td>\n",
       "      <td>80.000000</td>\n",
       "      <td>1.020000</td>\n",
       "      <td>0.000000</td>\n",
       "      <td>0.000000</td>\n",
       "      <td>121.000000</td>\n",
       "      <td>42.000000</td>\n",
       "      <td>1.300000</td>\n",
       "      <td>138.000000</td>\n",
       "      <td>4.400000</td>\n",
       "      <td>12.650000</td>\n",
       "    </tr>\n",
       "    <tr>\n",
       "      <th>75%</th>\n",
       "      <td>299.250000</td>\n",
       "      <td>64.500000</td>\n",
       "      <td>80.000000</td>\n",
       "      <td>1.020000</td>\n",
       "      <td>2.000000</td>\n",
       "      <td>0.000000</td>\n",
       "      <td>163.000000</td>\n",
       "      <td>66.000000</td>\n",
       "      <td>2.800000</td>\n",
       "      <td>142.000000</td>\n",
       "      <td>4.900000</td>\n",
       "      <td>15.000000</td>\n",
       "    </tr>\n",
       "    <tr>\n",
       "      <th>max</th>\n",
       "      <td>399.000000</td>\n",
       "      <td>90.000000</td>\n",
       "      <td>180.000000</td>\n",
       "      <td>1.025000</td>\n",
       "      <td>5.000000</td>\n",
       "      <td>5.000000</td>\n",
       "      <td>490.000000</td>\n",
       "      <td>391.000000</td>\n",
       "      <td>76.000000</td>\n",
       "      <td>163.000000</td>\n",
       "      <td>47.000000</td>\n",
       "      <td>17.800000</td>\n",
       "    </tr>\n",
       "  </tbody>\n",
       "</table>\n",
       "</div>"
      ],
      "text/plain": [
       "               id         age          bp          sg          al          su  \\\n",
       "count  400.000000  391.000000  388.000000  353.000000  354.000000  351.000000   \n",
       "mean   199.500000   51.483376   76.469072    1.017408    1.016949    0.450142   \n",
       "std    115.614301   17.169714   13.683637    0.005717    1.352679    1.099191   \n",
       "min      0.000000    2.000000   50.000000    1.005000    0.000000    0.000000   \n",
       "25%     99.750000   42.000000   70.000000    1.010000    0.000000    0.000000   \n",
       "50%    199.500000   55.000000   80.000000    1.020000    0.000000    0.000000   \n",
       "75%    299.250000   64.500000   80.000000    1.020000    2.000000    0.000000   \n",
       "max    399.000000   90.000000  180.000000    1.025000    5.000000    5.000000   \n",
       "\n",
       "              bgr          bu          sc         sod         pot        hemo  \n",
       "count  356.000000  381.000000  383.000000  313.000000  312.000000  348.000000  \n",
       "mean   148.036517   57.425722    3.072454  137.528754    4.627244   12.526437  \n",
       "std     79.281714   50.503006    5.741126   10.408752    3.193904    2.912587  \n",
       "min     22.000000    1.500000    0.400000    4.500000    2.500000    3.100000  \n",
       "25%     99.000000   27.000000    0.900000  135.000000    3.800000   10.300000  \n",
       "50%    121.000000   42.000000    1.300000  138.000000    4.400000   12.650000  \n",
       "75%    163.000000   66.000000    2.800000  142.000000    4.900000   15.000000  \n",
       "max    490.000000  391.000000   76.000000  163.000000   47.000000   17.800000  "
      ]
     },
     "execution_count": 19,
     "metadata": {},
     "output_type": "execute_result"
    }
   ],
   "source": [
    "df.describe()"
   ]
  },
  {
   "cell_type": "code",
   "execution_count": 20,
   "id": "9ed88bd0-371b-43f3-bbd1-106979ab4db2",
   "metadata": {
    "collapsed": true,
    "jupyter": {
     "outputs_hidden": true
    },
    "scrolled": true
   },
   "outputs": [
    {
     "data": {
      "text/plain": [
       "id                400\n",
       "age                76\n",
       "bp                 10\n",
       "sg                  5\n",
       "al                  6\n",
       "su                  6\n",
       "rbc                 2\n",
       "pc                  2\n",
       "pcc                 2\n",
       "ba                  2\n",
       "bgr               146\n",
       "bu                118\n",
       "sc                 84\n",
       "sod                34\n",
       "pot                40\n",
       "hemo              115\n",
       "pcv                43\n",
       "wc                 90\n",
       "rc                 46\n",
       "htn                 2\n",
       "dm                  2\n",
       "cad                 2\n",
       "appet               2\n",
       "pe                  2\n",
       "ane                 2\n",
       "classification      2\n",
       "dtype: int64"
      ]
     },
     "execution_count": 20,
     "metadata": {},
     "output_type": "execute_result"
    }
   ],
   "source": [
    "df.nunique()"
   ]
  },
  {
   "cell_type": "code",
   "execution_count": 21,
   "id": "a0bdb2d0-e5a3-4120-8c76-522f600dfee2",
   "metadata": {},
   "outputs": [
    {
     "data": {
      "text/plain": [
       "0"
      ]
     },
     "execution_count": 21,
     "metadata": {},
     "output_type": "execute_result"
    }
   ],
   "source": [
    "df.duplicated().sum()"
   ]
  },
  {
   "cell_type": "code",
   "execution_count": 37,
   "id": "58d27b34-9e33-4872-ba67-e9ccc8dcefda",
   "metadata": {},
   "outputs": [],
   "source": [
    "# Convert numerical-like object columns to float\n",
    "for col in ['pcv', 'wc', 'rc']:\n",
    "    df[col] = pd.to_numeric(df[col], errors='coerce')"
   ]
  },
  {
   "cell_type": "code",
   "execution_count": 40,
   "id": "5276c709-2a80-4a63-887e-362c15b0e5fc",
   "metadata": {},
   "outputs": [],
   "source": [
    "#Label encoding to the column \n",
    "le = LabelEncoder()\n",
    "df[['rbc', 'pc', 'pcc', 'ba', 'htn', 'dm', 'cad', 'appet', 'pe', 'ane', 'classification']] = df[['rbc', 'pc', 'pcc', 'ba', 'htn', 'dm', 'cad', 'appet', 'pe', 'ane', 'classification']].apply(lambda col: le.fit_transform(col))"
   ]
  },
  {
   "cell_type": "markdown",
   "id": "9df52e41-c88c-4bf3-98f0-bf5ee62b107b",
   "metadata": {},
   "source": [
    "df.head()"
   ]
  },
  {
   "cell_type": "code",
   "execution_count": 46,
   "id": "8882273d-69af-4266-b74f-3ebec3c37a1e",
   "metadata": {
    "collapsed": true,
    "jupyter": {
     "outputs_hidden": true
    },
    "scrolled": true
   },
   "outputs": [
    {
     "data": {
      "image/png": "[encoded data removed]",
      "text/plain": [
       "<Figure size 800x800 with 2 Axes>"
      ]
     },
     "metadata": {},
     "output_type": "display_data"
    }
   ],
   "source": [
    "# Compute correlation of \"Status\" with all other columns\n",
    "correlation_matrix = df.corr()[[\"classification\"]].drop(index=\"classification\")\n",
    "\n",
    "# Plot heatmap\n",
    "plt.figure(figsize=(8, 8))\n",
    "sns.heatmap(correlation_matrix, annot=True, cmap=\"coolwarm\", fmt=\".2f\")\n",
    "plt.title(\"Correlation of Status with Other Features\")\n",
    "plt.show()"
   ]
  },
  {
   "cell_type": "code",
   "execution_count": null,
   "id": "67303b35-b398-4836-9b87-e94a0b073acf",
   "metadata": {},
   "outputs": [],
   "source": [
    "#Based on this observation these are the data that CKD present and not present prediction  \n",
    "# \"hemo\", \"sg\", \"pcv\", \"rc\", \"pc\", \"htn\", \"dm\", \"al\", \"appet\", \"bgr\" "
   ]
  },
  {
   "cell_type": "code",
   "execution_count": 47,
   "id": "6a80be21-c6f5-42f3-afec-8c91b6fba2ce",
   "metadata": {
    "collapsed": true,
    "jupyter": {
     "outputs_hidden": true
    }
   },
   "outputs": [
    {
     "data": {
      "image/png": "[encoded data removed]",
      "text/plain": [
       "<Figure size 400x400 with 2 Axes>"
      ]
     },
     "metadata": {},
     "output_type": "display_data"
    }
   ],
   "source": [
    "#Univariate analysis\n",
    "sns.pairplot(df[[\"classification\"]],height=4)\n",
    "plt.show()"
   ]
  },
  {
   "cell_type": "code",
   "execution_count": 48,
   "id": "69b73f48-3c07-4123-afac-2f52e0db1066",
   "metadata": {
    "collapsed": true,
    "jupyter": {
     "outputs_hidden": true
    },
    "scrolled": true
   },
   "outputs": [
    {
     "data": {
      "image/png": "[encoded data removed]",
      "text/plain": [
       "<Figure size 800x600 with 1 Axes>"
      ]
     },
     "metadata": {},
     "output_type": "display_data"
    }
   ],
   "source": [
    "#Bivariate analysis\n",
    "plt.figure(figsize=(8, 6))\n",
    "sns.barplot(x=\"classification\", y=\"hemo\", data=df)  \n",
    "plt.title(\"Bar Plot of hemo by classification\")\n",
    "plt.show()"
   ]
  },
  {
   "cell_type": "code",
   "execution_count": 50,
   "id": "1302ba33-a18e-400e-a03d-82cfed63aae6",
   "metadata": {
    "collapsed": true,
    "jupyter": {
     "outputs_hidden": true
    },
    "scrolled": true
   },
   "outputs": [
    {
     "data": {
      "image/png": "[encoded data removed]",
      "text/plain": [
       "<Figure size 800x600 with 1 Axes>"
      ]
     },
     "metadata": {},
     "output_type": "display_data"
    }
   ],
   "source": [
    "#Bivariate analysis\n",
    "plt.figure(figsize=(8, 6))\n",
    "sns.barplot(x=\"classification\", y=\"sg\", data=df)  \n",
    "plt.title(\"Bar Plot of sg by classification\")\n",
    "plt.show()"
   ]
  },
  {
   "cell_type": "code",
   "execution_count": 51,
   "id": "fff428d3-f1c4-4408-b982-0865c67e6684",
   "metadata": {
    "collapsed": true,
    "jupyter": {
     "outputs_hidden": true
    },
    "scrolled": true
   },
   "outputs": [
    {
     "data": {
      "image/png": "[encoded data removed]",
      "text/plain": [
       "<Figure size 800x600 with 1 Axes>"
      ]
     },
     "metadata": {},
     "output_type": "display_data"
    }
   ],
   "source": [
    "#Bivariate analysis\n",
    "plt.figure(figsize=(8, 6))\n",
    "sns.barplot(x=\"classification\", y=\"pcv\", data=df)  \n",
    "plt.title(\"Bar Plot of pcv by classification\")\n",
    "plt.show()"
   ]
  },
  {
   "cell_type": "code",
   "execution_count": 52,
   "id": "93f19c3e-b194-4ca4-984b-16f5c284ae65",
   "metadata": {
    "collapsed": true,
    "jupyter": {
     "outputs_hidden": true
    },
    "scrolled": true
   },
   "outputs": [
    {
     "data": {
      "image/png": "[encoded data removed]",
      "text/plain": [
       "<Figure size 800x600 with 1 Axes>"
      ]
     },
     "metadata": {},
     "output_type": "display_data"
    }
   ],
   "source": [
    "#Bivariate analysis\n",
    "plt.figure(figsize=(8, 6))\n",
    "sns.barplot(x=\"classification\", y=\"rc\", data=df)  \n",
    "plt.title(\"Bar Plot of rc by classification\")\n",
    "plt.show()"
   ]
  },
  {
   "cell_type": "code",
   "execution_count": 53,
   "id": "94d76e60-4e4f-4d46-a9b6-a48612dbd2f0",
   "metadata": {
    "collapsed": true,
    "jupyter": {
     "outputs_hidden": true
    },
    "scrolled": true
   },
   "outputs": [
    {
     "data": {
      "image/png": "[encoded data removed]",
      "text/plain": [
       "<Figure size 800x600 with 1 Axes>"
      ]
     },
     "metadata": {},
     "output_type": "display_data"
    }
   ],
   "source": [
    "#Bivariate analysis\n",
    "plt.figure(figsize=(8, 6))\n",
    "sns.barplot(x=\"classification\", y=\"pc\", data=df)  \n",
    "plt.title(\"Bar Plot of pc by classification\")\n",
    "plt.show()"
   ]
  },
  {
   "cell_type": "code",
   "execution_count": 54,
   "id": "f21555bc-4517-45bf-9859-e2e85996519a",
   "metadata": {
    "collapsed": true,
    "jupyter": {
     "outputs_hidden": true
    },
    "scrolled": true
   },
   "outputs": [
    {
     "data": {
      "image/png": "[encoded data removed]",
      "text/plain": [
       "<Figure size 800x600 with 1 Axes>"
      ]
     },
     "metadata": {},
     "output_type": "display_data"
    }
   ],
   "source": [
    "#Bivariate analysis\n",
    "plt.figure(figsize=(8, 6))\n",
    "sns.barplot(x=\"classification\", y=\"htn\", data=df)  \n",
    "plt.title(\"Bar Plot of htn by classification\")\n",
    "plt.show()"
   ]
  },
  {
   "cell_type": "code",
   "execution_count": 55,
   "id": "2ed4afbc-c40d-4bc5-ba23-5970cb11f8a9",
   "metadata": {
    "collapsed": true,
    "jupyter": {
     "outputs_hidden": true
    },
    "scrolled": true
   },
   "outputs": [
    {
     "data": {
      "image/png": "[encoded data removed]",
      "text/plain": [
       "<Figure size 800x600 with 1 Axes>"
      ]
     },
     "metadata": {},
     "output_type": "display_data"
    }
   ],
   "source": [
    "#Bivariate analysis\n",
    "plt.figure(figsize=(8, 6))\n",
    "sns.barplot(x=\"classification\", y=\"dm\", data=df)  \n",
    "plt.title(\"Bar Plot of dm by classification\")\n",
    "plt.show()"
   ]
  },
  {
   "cell_type": "code",
   "execution_count": 56,
   "id": "1c64ed06-88eb-48e1-af09-25363a68865e",
   "metadata": {
    "collapsed": true,
    "jupyter": {
     "outputs_hidden": true
    },
    "scrolled": true
   },
   "outputs": [
    {
     "data": {
      "image/png": "[encoded data removed]",
      "text/plain": [
       "<Figure size 800x600 with 1 Axes>"
      ]
     },
     "metadata": {},
     "output_type": "display_data"
    }
   ],
   "source": [
    "#Bivariate analysis\n",
    "plt.figure(figsize=(8, 6))\n",
    "sns.barplot(x=\"classification\", y=\"al\", data=df)  \n",
    "plt.title(\"Bar Plot of al by classification\")\n",
    "plt.show()"
   ]
  },
  {
   "cell_type": "code",
   "execution_count": 57,
   "id": "d76d6990-5012-486b-81af-72fa4e56e133",
   "metadata": {
    "collapsed": true,
    "jupyter": {
     "outputs_hidden": true
    },
    "scrolled": true
   },
   "outputs": [
    {
     "data": {
      "image/png": "[encoded data removed]",
      "text/plain": [
       "<Figure size 800x600 with 1 Axes>"
      ]
     },
     "metadata": {},
     "output_type": "display_data"
    }
   ],
   "source": [
    "#Bivariate analysis\n",
    "plt.figure(figsize=(8, 6))\n",
    "sns.barplot(x=\"classification\", y=\"appet\", data=df)  \n",
    "plt.title(\"Bar Plot of appet by classification\")\n",
    "plt.show()"
   ]
  },
  {
   "cell_type": "code",
   "execution_count": 58,
   "id": "a0cd20c4-160c-49fd-b152-6f9bfb646770",
   "metadata": {
    "collapsed": true,
    "jupyter": {
     "outputs_hidden": true
    }
   },
   "outputs": [
    {
     "data": {
      "image/png": "[encoded data removed]",
      "text/plain": [
       "<Figure size 800x600 with 1 Axes>"
      ]
     },
     "metadata": {},
     "output_type": "display_data"
    }
   ],
   "source": [
    "#Bivariate analysis\n",
    "plt.figure(figsize=(8, 6))\n",
    "sns.barplot(x=\"classification\", y=\"bgr\", data=df)  \n",
    "plt.title(\"Bar Plot of bgr by classification\")\n",
    "plt.show()"
   ]
  },
  {
   "cell_type": "code",
   "execution_count": 78,
   "id": "fd2b3447-7234-4f86-85cc-714ca1a57232",
   "metadata": {
    "collapsed": true,
    "jupyter": {
     "outputs_hidden": true
    }
   },
   "outputs": [
    {
     "data": {
      "image/png": "[encoded data removed]",
      "text/plain": [
       "<Figure size 640x480 with 1 Axes>"
      ]
     },
     "metadata": {},
     "output_type": "display_data"
    }
   ],
   "source": [
    "#finding outliers #(Outliers Treated)\n",
    "# \"hemo\", \"sg\", \"pcv\", \"rc\", \"pc\", \"htn\", \"dm\", \"al\", \"appet\", \"bgr\" \n",
    "sns.boxplot(x=df['bgr'])  \n",
    "plt.show()"
   ]
  },
  {
   "cell_type": "code",
   "execution_count": 77,
   "id": "e1b740c2-9ed7-4d86-84ef-3f67bafdb79e",
   "metadata": {},
   "outputs": [],
   "source": [
    "#caping the outlaires (Treated)\n",
    "Q1 = df[\"bgr\"].quantile(0.25)\n",
    "Q3 = df[\"bgr\"].quantile(0.75)\n",
    "IQR = Q3 - Q1\n",
    "lower_bound = Q1 - 1.5 * IQR\n",
    "upper_bound = Q3 + 1.5 * IQR\n",
    "\n",
    "df[\"bgr\"] = np.where(df[\"bgr\"] < lower_bound, lower_bound, df[\"bgr\"])\n",
    "df[\"bgr\"] = np.where(df[\"bgr\"] > upper_bound, upper_bound, df[\"bgr\"])"
   ]
  },
  {
   "cell_type": "code",
   "execution_count": 79,
   "id": "e1818294-791e-4b2a-aed5-217b7fa64e6f",
   "metadata": {},
   "outputs": [
    {
     "name": "stdout",
     "output_type": "stream",
     "text": [
      "<class 'pandas.core.frame.DataFrame'>\n",
      "RangeIndex: 400 entries, 0 to 399\n",
      "Data columns (total 26 columns):\n",
      " #   Column          Non-Null Count  Dtype  \n",
      "---  ------          --------------  -----  \n",
      " 0   id              400 non-null    int64  \n",
      " 1   age             400 non-null    float64\n",
      " 2   bp              400 non-null    float64\n",
      " 3   sg              400 non-null    float64\n",
      " 4   al              400 non-null    float64\n",
      " 5   su              400 non-null    float64\n",
      " 6   rbc             400 non-null    int32  \n",
      " 7   pc              400 non-null    int32  \n",
      " 8   pcc             400 non-null    int32  \n",
      " 9   ba              400 non-null    int32  \n",
      " 10  bgr             400 non-null    float64\n",
      " 11  bu              400 non-null    float64\n",
      " 12  sc              400 non-null    float64\n",
      " 13  sod             400 non-null    float64\n",
      " 14  pot             400 non-null    float64\n",
      " 15  hemo            400 non-null    float64\n",
      " 16  pcv             399 non-null    float64\n",
      " 17  wc              399 non-null    float64\n",
      " 18  rc              399 non-null    float64\n",
      " 19  htn             400 non-null    int32  \n",
      " 20  dm              400 non-null    int32  \n",
      " 21  cad             400 non-null    int32  \n",
      " 22  appet           400 non-null    int32  \n",
      " 23  pe              400 non-null    int32  \n",
      " 24  ane             400 non-null    int32  \n",
      " 25  classification  400 non-null    int32  \n",
      "dtypes: float64(14), int32(11), int64(1)\n",
      "memory usage: 64.2 KB\n"
     ]
    }
   ],
   "source": [
    "df.info()"
   ]
  },
  {
   "cell_type": "code",
   "execution_count": 80,
   "id": "6d9994ad-6e4e-450c-abfa-caa09e95c38b",
   "metadata": {},
   "outputs": [
    {
     "data": {
      "text/plain": [
       "Index(['id', 'age', 'bp', 'sg', 'al', 'su', 'rbc', 'pc', 'pcc', 'ba', 'bgr',\n",
       "       'bu', 'sc', 'sod', 'pot', 'hemo', 'pcv', 'wc', 'rc', 'htn', 'dm', 'cad',\n",
       "       'appet', 'pe', 'ane', 'classification'],\n",
       "      dtype='object')"
      ]
     },
     "execution_count": 80,
     "metadata": {},
     "output_type": "execute_result"
    }
   ],
   "source": [
    "df.columns"
   ]
  },
  {
   "cell_type": "code",
   "execution_count": 212,
   "id": "6fae84f6-e7fd-4664-9629-51e40e03c1f8",
   "metadata": {},
   "outputs": [
    {
     "name": "stdout",
     "output_type": "stream",
     "text": [
      "After SMOTE: {0: 94, 1: 118}\n",
      "After final undersampling: [ 77 118]\n",
      "Total samples after resampling: 195\n"
     ]
    }
   ],
   "source": [
    "# NOT DONE\n",
    "\n",
    "#Define features and target\n",
    "X = df1.drop(columns=['classification'])  # Replace 'status' with your target column\n",
    "y = df1['classification']\n",
    "\n",
    "# Split the dataset into training and testing sets\n",
    "X_train, X_test, y_train, y_test = train_test_split(X, y, test_size=0.2, random_state=42, stratify=y)\n",
    "\n",
    "# Apply SMOTE with a slightly higher sampling strategy\n",
    "smote = SMOTE(sampling_strategy=0.8, random_state=42)  # Increase the ratio to get more samples\n",
    "X_smote, y_smote = smote.fit_resample(X_train, y_train)\n",
    "\n",
    "# Check class distribution after SMOTE\n",
    "unique, counts = np.unique(y_smote, return_counts=True)\n",
    "print(\"After SMOTE:\", dict(zip(unique, counts)))\n",
    "\n",
    "# Compute required class counts\n",
    "num_class_1 = counts[1]  # Get count of class 1\n",
    "target_class_0 = 195 - num_class_1  # Ensure total count is exactly 195\n",
    "\n",
    "# Apply undersampling only if necessary\n",
    "if counts[0] > target_class_0:\n",
    "    undersample = RandomUnderSampler(sampling_strategy={0: target_class_0}, random_state=42)\n",
    "    X_resampled, y_resampled = undersample.fit_resample(X_smote, y_smote)\n",
    "else:\n",
    "    X_resampled, y_resampled = X_smote, y_smote  # Keep data if no undersampling needed\n",
    "\n",
    "# Check final class distribution\n",
    "print(\"After final undersampling:\", np.bincount(y_resampled))\n",
    "print(\"Total samples after resampling:\", len(y_resampled))"
   ]
  },
  {
   "cell_type": "code",
   "execution_count": 82,
   "id": "33db9124-8443-45ee-99ee-d602795d5a8b",
   "metadata": {},
   "outputs": [],
   "source": [
    "y = df['classification']"
   ]
  },
  {
   "cell_type": "code",
   "execution_count": 234,
   "id": "8f5be5f7-48f3-4862-b1bf-e6987965f9b7",
   "metadata": {},
   "outputs": [],
   "source": [
    "y = y_resampled"
   ]
  },
  {
   "cell_type": "code",
   "execution_count": 83,
   "id": "2346a083-8b17-46f6-b8a5-d33b742f94ee",
   "metadata": {},
   "outputs": [
    {
     "name": "stdout",
     "output_type": "stream",
     "text": [
      "395    1\n",
      "396    1\n",
      "397    1\n",
      "398    1\n",
      "399    1\n",
      "Name: classification, dtype: int32\n"
     ]
    }
   ],
   "source": [
    "print(y.tail())"
   ]
  },
  {
   "cell_type": "code",
   "execution_count": 84,
   "id": "8c71dbdc-fd5f-4552-86ba-4de2efa121ce",
   "metadata": {
    "collapsed": true,
    "jupyter": {
     "outputs_hidden": true
    }
   },
   "outputs": [
    {
     "data": {
      "text/html": [
       "<div>\n",
       "<style scoped>\n",
       "    .dataframe tbody tr th:only-of-type {\n",
       "        vertical-align: middle;\n",
       "    }\n",
       "\n",
       "    .dataframe tbody tr th {\n",
       "        vertical-align: top;\n",
       "    }\n",
       "\n",
       "    .dataframe thead th {\n",
       "        text-align: right;\n",
       "    }\n",
       "</style>\n",
       "<table border=\"1\" class=\"dataframe\">\n",
       "  <thead>\n",
       "    <tr style=\"text-align: right;\">\n",
       "      <th></th>\n",
       "      <th>id</th>\n",
       "      <th>age</th>\n",
       "      <th>bp</th>\n",
       "      <th>sg</th>\n",
       "      <th>al</th>\n",
       "      <th>su</th>\n",
       "      <th>rbc</th>\n",
       "      <th>pc</th>\n",
       "      <th>pcc</th>\n",
       "      <th>ba</th>\n",
       "      <th>bgr</th>\n",
       "      <th>bu</th>\n",
       "      <th>sc</th>\n",
       "      <th>sod</th>\n",
       "      <th>pot</th>\n",
       "      <th>hemo</th>\n",
       "      <th>pcv</th>\n",
       "      <th>wc</th>\n",
       "      <th>rc</th>\n",
       "      <th>htn</th>\n",
       "      <th>dm</th>\n",
       "      <th>cad</th>\n",
       "      <th>appet</th>\n",
       "      <th>pe</th>\n",
       "      <th>ane</th>\n",
       "      <th>classification</th>\n",
       "    </tr>\n",
       "  </thead>\n",
       "  <tbody>\n",
       "    <tr>\n",
       "      <th>id</th>\n",
       "      <td>1.000000</td>\n",
       "      <td>-0.186274</td>\n",
       "      <td>-0.245378</td>\n",
       "      <td>0.583117</td>\n",
       "      <td>-0.468924</td>\n",
       "      <td>-0.247181</td>\n",
       "      <td>0.231457</td>\n",
       "      <td>0.335825</td>\n",
       "      <td>-0.264142</td>\n",
       "      <td>-0.115955</td>\n",
       "      <td>-0.331484</td>\n",
       "      <td>-0.299054</td>\n",
       "      <td>-0.263262</td>\n",
       "      <td>0.316549</td>\n",
       "      <td>-0.071029</td>\n",
       "      <td>0.612087</td>\n",
       "      <td>0.564305</td>\n",
       "      <td>-0.245144</td>\n",
       "      <td>0.427064</td>\n",
       "      <td>-0.520089</td>\n",
       "      <td>-0.475106</td>\n",
       "      <td>-0.205575</td>\n",
       "      <td>-0.374394</td>\n",
       "      <td>-0.308120</td>\n",
       "      <td>-0.273096</td>\n",
       "      <td>0.838528</td>\n",
       "    </tr>\n",
       "    <tr>\n",
       "      <th>age</th>\n",
       "      <td>-0.186274</td>\n",
       "      <td>1.000000</td>\n",
       "      <td>0.136316</td>\n",
       "      <td>-0.160621</td>\n",
       "      <td>0.085918</td>\n",
       "      <td>0.186750</td>\n",
       "      <td>-0.014904</td>\n",
       "      <td>-0.102286</td>\n",
       "      <td>0.157401</td>\n",
       "      <td>0.042427</td>\n",
       "      <td>0.277046</td>\n",
       "      <td>0.194291</td>\n",
       "      <td>0.133985</td>\n",
       "      <td>-0.086040</td>\n",
       "      <td>0.049399</td>\n",
       "      <td>-0.179011</td>\n",
       "      <td>-0.215780</td>\n",
       "      <td>0.121262</td>\n",
       "      <td>-0.221817</td>\n",
       "      <td>0.395073</td>\n",
       "      <td>0.364306</td>\n",
       "      <td>0.231419</td>\n",
       "      <td>0.156581</td>\n",
       "      <td>0.094772</td>\n",
       "      <td>0.052938</td>\n",
       "      <td>-0.227842</td>\n",
       "    </tr>\n",
       "    <tr>\n",
       "      <th>bp</th>\n",
       "      <td>-0.245378</td>\n",
       "      <td>0.136316</td>\n",
       "      <td>1.000000</td>\n",
       "      <td>-0.167818</td>\n",
       "      <td>0.123518</td>\n",
       "      <td>0.189561</td>\n",
       "      <td>-0.150384</td>\n",
       "      <td>-0.156231</td>\n",
       "      <td>0.056808</td>\n",
       "      <td>0.110164</td>\n",
       "      <td>0.180743</td>\n",
       "      <td>0.180841</td>\n",
       "      <td>0.143184</td>\n",
       "      <td>-0.100705</td>\n",
       "      <td>0.063667</td>\n",
       "      <td>-0.278639</td>\n",
       "      <td>-0.282769</td>\n",
       "      <td>0.041065</td>\n",
       "      <td>-0.207515</td>\n",
       "      <td>0.266901</td>\n",
       "      <td>0.226489</td>\n",
       "      <td>0.084135</td>\n",
       "      <td>0.175054</td>\n",
       "      <td>0.056902</td>\n",
       "      <td>0.195134</td>\n",
       "      <td>-0.293693</td>\n",
       "    </tr>\n",
       "    <tr>\n",
       "      <th>sg</th>\n",
       "      <td>0.583117</td>\n",
       "      <td>-0.160621</td>\n",
       "      <td>-0.167818</td>\n",
       "      <td>1.000000</td>\n",
       "      <td>-0.478805</td>\n",
       "      <td>-0.296901</td>\n",
       "      <td>0.246777</td>\n",
       "      <td>0.360787</td>\n",
       "      <td>-0.303133</td>\n",
       "      <td>-0.232599</td>\n",
       "      <td>-0.351427</td>\n",
       "      <td>-0.247404</td>\n",
       "      <td>-0.172045</td>\n",
       "      <td>0.209203</td>\n",
       "      <td>-0.054960</td>\n",
       "      <td>0.493574</td>\n",
       "      <td>0.498455</td>\n",
       "      <td>-0.240915</td>\n",
       "      <td>0.396064</td>\n",
       "      <td>-0.325840</td>\n",
       "      <td>-0.353204</td>\n",
       "      <td>-0.136490</td>\n",
       "      <td>-0.230476</td>\n",
       "      <td>-0.247285</td>\n",
       "      <td>-0.184261</td>\n",
       "      <td>0.664697</td>\n",
       "    </tr>\n",
       "    <tr>\n",
       "      <th>al</th>\n",
       "      <td>-0.468924</td>\n",
       "      <td>0.085918</td>\n",
       "      <td>0.123518</td>\n",
       "      <td>-0.478805</td>\n",
       "      <td>1.000000</td>\n",
       "      <td>0.287751</td>\n",
       "      <td>-0.394844</td>\n",
       "      <td>-0.561713</td>\n",
       "      <td>0.417868</td>\n",
       "      <td>0.377935</td>\n",
       "      <td>0.309609</td>\n",
       "      <td>0.347418</td>\n",
       "      <td>0.161310</td>\n",
       "      <td>-0.225612</td>\n",
       "      <td>0.107893</td>\n",
       "      <td>-0.472814</td>\n",
       "      <td>-0.472687</td>\n",
       "      <td>0.214263</td>\n",
       "      <td>-0.392408</td>\n",
       "      <td>0.406057</td>\n",
       "      <td>0.308101</td>\n",
       "      <td>0.200957</td>\n",
       "      <td>0.303145</td>\n",
       "      <td>0.411080</td>\n",
       "      <td>0.229556</td>\n",
       "      <td>-0.531562</td>\n",
       "    </tr>\n",
       "    <tr>\n",
       "      <th>su</th>\n",
       "      <td>-0.247181</td>\n",
       "      <td>0.186750</td>\n",
       "      <td>0.189561</td>\n",
       "      <td>-0.296901</td>\n",
       "      <td>0.287751</td>\n",
       "      <td>1.000000</td>\n",
       "      <td>-0.092940</td>\n",
       "      <td>-0.190062</td>\n",
       "      <td>0.168091</td>\n",
       "      <td>0.119399</td>\n",
       "      <td>0.571945</td>\n",
       "      <td>0.126897</td>\n",
       "      <td>0.096434</td>\n",
       "      <td>-0.051758</td>\n",
       "      <td>0.177396</td>\n",
       "      <td>-0.156955</td>\n",
       "      <td>-0.182739</td>\n",
       "      <td>0.161569</td>\n",
       "      <td>-0.160518</td>\n",
       "      <td>0.254268</td>\n",
       "      <td>0.430514</td>\n",
       "      <td>0.229301</td>\n",
       "      <td>0.069216</td>\n",
       "      <td>0.116442</td>\n",
       "      <td>0.042464</td>\n",
       "      <td>-0.294555</td>\n",
       "    </tr>\n",
       "    <tr>\n",
       "      <th>rbc</th>\n",
       "      <td>0.231457</td>\n",
       "      <td>-0.014904</td>\n",
       "      <td>-0.150384</td>\n",
       "      <td>0.246777</td>\n",
       "      <td>-0.394844</td>\n",
       "      <td>-0.092940</td>\n",
       "      <td>1.000000</td>\n",
       "      <td>0.377394</td>\n",
       "      <td>-0.102948</td>\n",
       "      <td>-0.184402</td>\n",
       "      <td>-0.155572</td>\n",
       "      <td>-0.233935</td>\n",
       "      <td>-0.135660</td>\n",
       "      <td>0.139037</td>\n",
       "      <td>0.020473</td>\n",
       "      <td>0.282642</td>\n",
       "      <td>0.282795</td>\n",
       "      <td>-0.021473</td>\n",
       "      <td>0.167988</td>\n",
       "      <td>-0.140538</td>\n",
       "      <td>-0.145646</td>\n",
       "      <td>-0.111493</td>\n",
       "      <td>-0.160868</td>\n",
       "      <td>-0.199285</td>\n",
       "      <td>-0.107625</td>\n",
       "      <td>0.282642</td>\n",
       "    </tr>\n",
       "    <tr>\n",
       "      <th>pc</th>\n",
       "      <td>0.335825</td>\n",
       "      <td>-0.102286</td>\n",
       "      <td>-0.156231</td>\n",
       "      <td>0.360787</td>\n",
       "      <td>-0.561713</td>\n",
       "      <td>-0.190062</td>\n",
       "      <td>0.377394</td>\n",
       "      <td>1.000000</td>\n",
       "      <td>-0.520118</td>\n",
       "      <td>-0.330401</td>\n",
       "      <td>-0.268854</td>\n",
       "      <td>-0.344501</td>\n",
       "      <td>-0.158038</td>\n",
       "      <td>0.171171</td>\n",
       "      <td>-0.155434</td>\n",
       "      <td>0.409747</td>\n",
       "      <td>0.412914</td>\n",
       "      <td>-0.108285</td>\n",
       "      <td>0.373823</td>\n",
       "      <td>-0.291719</td>\n",
       "      <td>-0.201032</td>\n",
       "      <td>-0.172295</td>\n",
       "      <td>-0.274985</td>\n",
       "      <td>-0.350227</td>\n",
       "      <td>-0.260566</td>\n",
       "      <td>0.375154</td>\n",
       "    </tr>\n",
       "    <tr>\n",
       "      <th>pcc</th>\n",
       "      <td>-0.264142</td>\n",
       "      <td>0.157401</td>\n",
       "      <td>0.056808</td>\n",
       "      <td>-0.303133</td>\n",
       "      <td>0.417868</td>\n",
       "      <td>0.168091</td>\n",
       "      <td>-0.102948</td>\n",
       "      <td>-0.520118</td>\n",
       "      <td>1.000000</td>\n",
       "      <td>0.275082</td>\n",
       "      <td>0.199036</td>\n",
       "      <td>0.189094</td>\n",
       "      <td>0.054429</td>\n",
       "      <td>-0.138816</td>\n",
       "      <td>-0.011416</td>\n",
       "      <td>-0.272992</td>\n",
       "      <td>-0.294014</td>\n",
       "      <td>0.158617</td>\n",
       "      <td>-0.236981</td>\n",
       "      <td>0.195623</td>\n",
       "      <td>0.165236</td>\n",
       "      <td>0.188029</td>\n",
       "      <td>0.189688</td>\n",
       "      <td>0.104356</td>\n",
       "      <td>0.175861</td>\n",
       "      <td>-0.265313</td>\n",
       "    </tr>\n",
       "    <tr>\n",
       "      <th>ba</th>\n",
       "      <td>-0.115955</td>\n",
       "      <td>0.042427</td>\n",
       "      <td>0.110164</td>\n",
       "      <td>-0.232599</td>\n",
       "      <td>0.377935</td>\n",
       "      <td>0.119399</td>\n",
       "      <td>-0.184402</td>\n",
       "      <td>-0.330401</td>\n",
       "      <td>0.275082</td>\n",
       "      <td>1.000000</td>\n",
       "      <td>0.106539</td>\n",
       "      <td>0.161676</td>\n",
       "      <td>0.053959</td>\n",
       "      <td>-0.082156</td>\n",
       "      <td>-0.001944</td>\n",
       "      <td>-0.206947</td>\n",
       "      <td>-0.190554</td>\n",
       "      <td>0.095966</td>\n",
       "      <td>-0.195991</td>\n",
       "      <td>0.089046</td>\n",
       "      <td>0.080070</td>\n",
       "      <td>0.162395</td>\n",
       "      <td>0.149126</td>\n",
       "      <td>0.134732</td>\n",
       "      <td>0.052208</td>\n",
       "      <td>-0.186871</td>\n",
       "    </tr>\n",
       "    <tr>\n",
       "      <th>bgr</th>\n",
       "      <td>-0.331484</td>\n",
       "      <td>0.277046</td>\n",
       "      <td>0.180743</td>\n",
       "      <td>-0.351427</td>\n",
       "      <td>0.309609</td>\n",
       "      <td>0.571945</td>\n",
       "      <td>-0.155572</td>\n",
       "      <td>-0.268854</td>\n",
       "      <td>0.199036</td>\n",
       "      <td>0.106539</td>\n",
       "      <td>1.000000</td>\n",
       "      <td>0.187006</td>\n",
       "      <td>0.128452</td>\n",
       "      <td>-0.137130</td>\n",
       "      <td>0.115206</td>\n",
       "      <td>-0.317428</td>\n",
       "      <td>-0.307345</td>\n",
       "      <td>0.171449</td>\n",
       "      <td>-0.262880</td>\n",
       "      <td>0.413430</td>\n",
       "      <td>0.543468</td>\n",
       "      <td>0.213740</td>\n",
       "      <td>0.227756</td>\n",
       "      <td>0.161223</td>\n",
       "      <td>0.126816</td>\n",
       "      <td>-0.433411</td>\n",
       "    </tr>\n",
       "    <tr>\n",
       "      <th>bu</th>\n",
       "      <td>-0.299054</td>\n",
       "      <td>0.194291</td>\n",
       "      <td>0.180841</td>\n",
       "      <td>-0.247404</td>\n",
       "      <td>0.347418</td>\n",
       "      <td>0.126897</td>\n",
       "      <td>-0.233935</td>\n",
       "      <td>-0.344501</td>\n",
       "      <td>0.189094</td>\n",
       "      <td>0.161676</td>\n",
       "      <td>0.187006</td>\n",
       "      <td>1.000000</td>\n",
       "      <td>0.581517</td>\n",
       "      <td>-0.308806</td>\n",
       "      <td>0.339771</td>\n",
       "      <td>-0.534979</td>\n",
       "      <td>-0.507170</td>\n",
       "      <td>0.054123</td>\n",
       "      <td>-0.416677</td>\n",
       "      <td>0.395601</td>\n",
       "      <td>0.315958</td>\n",
       "      <td>0.224782</td>\n",
       "      <td>0.274123</td>\n",
       "      <td>0.338740</td>\n",
       "      <td>0.436321</td>\n",
       "      <td>-0.369393</td>\n",
       "    </tr>\n",
       "    <tr>\n",
       "      <th>sc</th>\n",
       "      <td>-0.263262</td>\n",
       "      <td>0.133985</td>\n",
       "      <td>0.143184</td>\n",
       "      <td>-0.172045</td>\n",
       "      <td>0.161310</td>\n",
       "      <td>0.096434</td>\n",
       "      <td>-0.135660</td>\n",
       "      <td>-0.158038</td>\n",
       "      <td>0.054429</td>\n",
       "      <td>0.053959</td>\n",
       "      <td>0.128452</td>\n",
       "      <td>0.581517</td>\n",
       "      <td>1.000000</td>\n",
       "      <td>-0.624036</td>\n",
       "      <td>0.204751</td>\n",
       "      <td>-0.341074</td>\n",
       "      <td>-0.330705</td>\n",
       "      <td>0.018355</td>\n",
       "      <td>-0.286335</td>\n",
       "      <td>0.282864</td>\n",
       "      <td>0.209763</td>\n",
       "      <td>0.195968</td>\n",
       "      <td>0.162131</td>\n",
       "      <td>0.176685</td>\n",
       "      <td>0.236528</td>\n",
       "      <td>-0.291245</td>\n",
       "    </tr>\n",
       "    <tr>\n",
       "      <th>sod</th>\n",
       "      <td>0.316549</td>\n",
       "      <td>-0.086040</td>\n",
       "      <td>-0.100705</td>\n",
       "      <td>0.209203</td>\n",
       "      <td>-0.225612</td>\n",
       "      <td>-0.051758</td>\n",
       "      <td>0.139037</td>\n",
       "      <td>0.171171</td>\n",
       "      <td>-0.138816</td>\n",
       "      <td>-0.082156</td>\n",
       "      <td>-0.137130</td>\n",
       "      <td>-0.308806</td>\n",
       "      <td>-0.624036</td>\n",
       "      <td>1.000000</td>\n",
       "      <td>0.069612</td>\n",
       "      <td>0.330702</td>\n",
       "      <td>0.338914</td>\n",
       "      <td>-0.000901</td>\n",
       "      <td>0.308297</td>\n",
       "      <td>-0.306953</td>\n",
       "      <td>-0.264693</td>\n",
       "      <td>-0.221274</td>\n",
       "      <td>-0.158112</td>\n",
       "      <td>-0.150379</td>\n",
       "      <td>-0.198643</td>\n",
       "      <td>0.334900</td>\n",
       "    </tr>\n",
       "    <tr>\n",
       "      <th>pot</th>\n",
       "      <td>-0.071029</td>\n",
       "      <td>0.049399</td>\n",
       "      <td>0.063667</td>\n",
       "      <td>-0.054960</td>\n",
       "      <td>0.107893</td>\n",
       "      <td>0.177396</td>\n",
       "      <td>0.020473</td>\n",
       "      <td>-0.155434</td>\n",
       "      <td>-0.011416</td>\n",
       "      <td>-0.001944</td>\n",
       "      <td>0.115206</td>\n",
       "      <td>0.339771</td>\n",
       "      <td>0.204751</td>\n",
       "      <td>0.069612</td>\n",
       "      <td>1.000000</td>\n",
       "      <td>-0.095801</td>\n",
       "      <td>-0.113959</td>\n",
       "      <td>-0.063132</td>\n",
       "      <td>-0.086145</td>\n",
       "      <td>0.055840</td>\n",
       "      <td>0.057615</td>\n",
       "      <td>0.007551</td>\n",
       "      <td>-0.019855</td>\n",
       "      <td>0.061354</td>\n",
       "      <td>0.100791</td>\n",
       "      <td>-0.065218</td>\n",
       "    </tr>\n",
       "    <tr>\n",
       "      <th>hemo</th>\n",
       "      <td>0.612087</td>\n",
       "      <td>-0.179011</td>\n",
       "      <td>-0.278639</td>\n",
       "      <td>0.493574</td>\n",
       "      <td>-0.472814</td>\n",
       "      <td>-0.156955</td>\n",
       "      <td>0.282642</td>\n",
       "      <td>0.409747</td>\n",
       "      <td>-0.272992</td>\n",
       "      <td>-0.206947</td>\n",
       "      <td>-0.317428</td>\n",
       "      <td>-0.534979</td>\n",
       "      <td>-0.341074</td>\n",
       "      <td>0.330702</td>\n",
       "      <td>-0.095801</td>\n",
       "      <td>1.000000</td>\n",
       "      <td>0.834597</td>\n",
       "      <td>-0.204234</td>\n",
       "      <td>0.572394</td>\n",
       "      <td>-0.582306</td>\n",
       "      <td>-0.468689</td>\n",
       "      <td>-0.284629</td>\n",
       "      <td>-0.388735</td>\n",
       "      <td>-0.379343</td>\n",
       "      <td>-0.554977</td>\n",
       "      <td>0.729831</td>\n",
       "    </tr>\n",
       "    <tr>\n",
       "      <th>pcv</th>\n",
       "      <td>0.564305</td>\n",
       "      <td>-0.215780</td>\n",
       "      <td>-0.282769</td>\n",
       "      <td>0.498455</td>\n",
       "      <td>-0.472687</td>\n",
       "      <td>-0.182739</td>\n",
       "      <td>0.282795</td>\n",
       "      <td>0.412914</td>\n",
       "      <td>-0.294014</td>\n",
       "      <td>-0.190554</td>\n",
       "      <td>-0.307345</td>\n",
       "      <td>-0.507170</td>\n",
       "      <td>-0.330705</td>\n",
       "      <td>0.338914</td>\n",
       "      <td>-0.113959</td>\n",
       "      <td>0.834597</td>\n",
       "      <td>1.000000</td>\n",
       "      <td>-0.206488</td>\n",
       "      <td>0.631889</td>\n",
       "      <td>-0.570000</td>\n",
       "      <td>-0.449080</td>\n",
       "      <td>-0.303513</td>\n",
       "      <td>-0.372544</td>\n",
       "      <td>-0.378721</td>\n",
       "      <td>-0.508689</td>\n",
       "      <td>0.666192</td>\n",
       "    </tr>\n",
       "    <tr>\n",
       "      <th>wc</th>\n",
       "      <td>-0.245144</td>\n",
       "      <td>0.121262</td>\n",
       "      <td>0.041065</td>\n",
       "      <td>-0.240915</td>\n",
       "      <td>0.214263</td>\n",
       "      <td>0.161569</td>\n",
       "      <td>-0.021473</td>\n",
       "      <td>-0.108285</td>\n",
       "      <td>0.158617</td>\n",
       "      <td>0.095966</td>\n",
       "      <td>0.171449</td>\n",
       "      <td>0.054123</td>\n",
       "      <td>0.018355</td>\n",
       "      <td>-0.000901</td>\n",
       "      <td>-0.063132</td>\n",
       "      <td>-0.204234</td>\n",
       "      <td>-0.206488</td>\n",
       "      <td>1.000000</td>\n",
       "      <td>-0.121229</td>\n",
       "      <td>0.136412</td>\n",
       "      <td>0.176649</td>\n",
       "      <td>0.013206</td>\n",
       "      <td>0.166525</td>\n",
       "      <td>0.173172</td>\n",
       "      <td>0.043807</td>\n",
       "      <td>-0.289801</td>\n",
       "    </tr>\n",
       "    <tr>\n",
       "      <th>rc</th>\n",
       "      <td>0.427064</td>\n",
       "      <td>-0.221817</td>\n",
       "      <td>-0.207515</td>\n",
       "      <td>0.396064</td>\n",
       "      <td>-0.392408</td>\n",
       "      <td>-0.160518</td>\n",
       "      <td>0.167988</td>\n",
       "      <td>0.373823</td>\n",
       "      <td>-0.236981</td>\n",
       "      <td>-0.195991</td>\n",
       "      <td>-0.262880</td>\n",
       "      <td>-0.416677</td>\n",
       "      <td>-0.286335</td>\n",
       "      <td>0.308297</td>\n",
       "      <td>-0.086145</td>\n",
       "      <td>0.572394</td>\n",
       "      <td>0.631889</td>\n",
       "      <td>-0.121229</td>\n",
       "      <td>1.000000</td>\n",
       "      <td>-0.514805</td>\n",
       "      <td>-0.405017</td>\n",
       "      <td>-0.284274</td>\n",
       "      <td>-0.335769</td>\n",
       "      <td>-0.275874</td>\n",
       "      <td>-0.326316</td>\n",
       "      <td>0.468618</td>\n",
       "    </tr>\n",
       "    <tr>\n",
       "      <th>htn</th>\n",
       "      <td>-0.520089</td>\n",
       "      <td>0.395073</td>\n",
       "      <td>0.266901</td>\n",
       "      <td>-0.325840</td>\n",
       "      <td>0.406057</td>\n",
       "      <td>0.254268</td>\n",
       "      <td>-0.140538</td>\n",
       "      <td>-0.291719</td>\n",
       "      <td>0.195623</td>\n",
       "      <td>0.089046</td>\n",
       "      <td>0.413430</td>\n",
       "      <td>0.395601</td>\n",
       "      <td>0.282864</td>\n",
       "      <td>-0.306953</td>\n",
       "      <td>0.055840</td>\n",
       "      <td>-0.582306</td>\n",
       "      <td>-0.570000</td>\n",
       "      <td>0.136412</td>\n",
       "      <td>-0.514805</td>\n",
       "      <td>1.000000</td>\n",
       "      <td>0.608118</td>\n",
       "      <td>0.325479</td>\n",
       "      <td>0.345070</td>\n",
       "      <td>0.371026</td>\n",
       "      <td>0.347802</td>\n",
       "      <td>-0.590438</td>\n",
       "    </tr>\n",
       "    <tr>\n",
       "      <th>dm</th>\n",
       "      <td>-0.475106</td>\n",
       "      <td>0.364306</td>\n",
       "      <td>0.226489</td>\n",
       "      <td>-0.353204</td>\n",
       "      <td>0.308101</td>\n",
       "      <td>0.430514</td>\n",
       "      <td>-0.145646</td>\n",
       "      <td>-0.201032</td>\n",
       "      <td>0.165236</td>\n",
       "      <td>0.080070</td>\n",
       "      <td>0.543468</td>\n",
       "      <td>0.315958</td>\n",
       "      <td>0.209763</td>\n",
       "      <td>-0.264693</td>\n",
       "      <td>0.057615</td>\n",
       "      <td>-0.468689</td>\n",
       "      <td>-0.449080</td>\n",
       "      <td>0.176649</td>\n",
       "      <td>-0.405017</td>\n",
       "      <td>0.608118</td>\n",
       "      <td>1.000000</td>\n",
       "      <td>0.271172</td>\n",
       "      <td>0.325134</td>\n",
       "      <td>0.308463</td>\n",
       "      <td>0.183686</td>\n",
       "      <td>-0.559060</td>\n",
       "    </tr>\n",
       "    <tr>\n",
       "      <th>cad</th>\n",
       "      <td>-0.205575</td>\n",
       "      <td>0.231419</td>\n",
       "      <td>0.084135</td>\n",
       "      <td>-0.136490</td>\n",
       "      <td>0.200957</td>\n",
       "      <td>0.229301</td>\n",
       "      <td>-0.111493</td>\n",
       "      <td>-0.172295</td>\n",
       "      <td>0.188029</td>\n",
       "      <td>0.162395</td>\n",
       "      <td>0.213740</td>\n",
       "      <td>0.224782</td>\n",
       "      <td>0.195968</td>\n",
       "      <td>-0.221274</td>\n",
       "      <td>0.007551</td>\n",
       "      <td>-0.284629</td>\n",
       "      <td>-0.303513</td>\n",
       "      <td>0.013206</td>\n",
       "      <td>-0.284274</td>\n",
       "      <td>0.325479</td>\n",
       "      <td>0.271172</td>\n",
       "      <td>1.000000</td>\n",
       "      <td>0.156104</td>\n",
       "      <td>0.172295</td>\n",
       "      <td>0.047700</td>\n",
       "      <td>-0.236088</td>\n",
       "    </tr>\n",
       "    <tr>\n",
       "      <th>appet</th>\n",
       "      <td>-0.374394</td>\n",
       "      <td>0.156581</td>\n",
       "      <td>0.175054</td>\n",
       "      <td>-0.230476</td>\n",
       "      <td>0.303145</td>\n",
       "      <td>0.069216</td>\n",
       "      <td>-0.160868</td>\n",
       "      <td>-0.274985</td>\n",
       "      <td>0.189688</td>\n",
       "      <td>0.149126</td>\n",
       "      <td>0.227756</td>\n",
       "      <td>0.274123</td>\n",
       "      <td>0.162131</td>\n",
       "      <td>-0.158112</td>\n",
       "      <td>-0.019855</td>\n",
       "      <td>-0.388735</td>\n",
       "      <td>-0.372544</td>\n",
       "      <td>0.166525</td>\n",
       "      <td>-0.335769</td>\n",
       "      <td>0.345070</td>\n",
       "      <td>0.325134</td>\n",
       "      <td>0.156104</td>\n",
       "      <td>1.000000</td>\n",
       "      <td>0.417055</td>\n",
       "      <td>0.254942</td>\n",
       "      <td>-0.393341</td>\n",
       "    </tr>\n",
       "    <tr>\n",
       "      <th>pe</th>\n",
       "      <td>-0.308120</td>\n",
       "      <td>0.094772</td>\n",
       "      <td>0.056902</td>\n",
       "      <td>-0.247285</td>\n",
       "      <td>0.411080</td>\n",
       "      <td>0.116442</td>\n",
       "      <td>-0.199285</td>\n",
       "      <td>-0.350227</td>\n",
       "      <td>0.104356</td>\n",
       "      <td>0.134732</td>\n",
       "      <td>0.161223</td>\n",
       "      <td>0.338740</td>\n",
       "      <td>0.176685</td>\n",
       "      <td>-0.150379</td>\n",
       "      <td>0.061354</td>\n",
       "      <td>-0.379343</td>\n",
       "      <td>-0.378721</td>\n",
       "      <td>0.173172</td>\n",
       "      <td>-0.275874</td>\n",
       "      <td>0.371026</td>\n",
       "      <td>0.308463</td>\n",
       "      <td>0.172295</td>\n",
       "      <td>0.417055</td>\n",
       "      <td>1.000000</td>\n",
       "      <td>0.207025</td>\n",
       "      <td>-0.375154</td>\n",
       "    </tr>\n",
       "    <tr>\n",
       "      <th>ane</th>\n",
       "      <td>-0.273096</td>\n",
       "      <td>0.052938</td>\n",
       "      <td>0.195134</td>\n",
       "      <td>-0.184261</td>\n",
       "      <td>0.229556</td>\n",
       "      <td>0.042464</td>\n",
       "      <td>-0.107625</td>\n",
       "      <td>-0.260566</td>\n",
       "      <td>0.175861</td>\n",
       "      <td>0.052208</td>\n",
       "      <td>0.126816</td>\n",
       "      <td>0.436321</td>\n",
       "      <td>0.236528</td>\n",
       "      <td>-0.198643</td>\n",
       "      <td>0.100791</td>\n",
       "      <td>-0.554977</td>\n",
       "      <td>-0.508689</td>\n",
       "      <td>0.043807</td>\n",
       "      <td>-0.326316</td>\n",
       "      <td>0.347802</td>\n",
       "      <td>0.183686</td>\n",
       "      <td>0.047700</td>\n",
       "      <td>0.254942</td>\n",
       "      <td>0.207025</td>\n",
       "      <td>1.000000</td>\n",
       "      <td>-0.325396</td>\n",
       "    </tr>\n",
       "    <tr>\n",
       "      <th>classification</th>\n",
       "      <td>0.838528</td>\n",
       "      <td>-0.227842</td>\n",
       "      <td>-0.293693</td>\n",
       "      <td>0.664697</td>\n",
       "      <td>-0.531562</td>\n",
       "      <td>-0.294555</td>\n",
       "      <td>0.282642</td>\n",
       "      <td>0.375154</td>\n",
       "      <td>-0.265313</td>\n",
       "      <td>-0.186871</td>\n",
       "      <td>-0.433411</td>\n",
       "      <td>-0.369393</td>\n",
       "      <td>-0.291245</td>\n",
       "      <td>0.334900</td>\n",
       "      <td>-0.065218</td>\n",
       "      <td>0.729831</td>\n",
       "      <td>0.666192</td>\n",
       "      <td>-0.289801</td>\n",
       "      <td>0.468618</td>\n",
       "      <td>-0.590438</td>\n",
       "      <td>-0.559060</td>\n",
       "      <td>-0.236088</td>\n",
       "      <td>-0.393341</td>\n",
       "      <td>-0.375154</td>\n",
       "      <td>-0.325396</td>\n",
       "      <td>1.000000</td>\n",
       "    </tr>\n",
       "  </tbody>\n",
       "</table>\n",
       "</div>"
      ],
      "text/plain": [
       "                      id       age        bp        sg        al        su  \\\n",
       "id              1.000000 -0.186274 -0.245378  0.583117 -0.468924 -0.247181   \n",
       "age            -0.186274  1.000000  0.136316 -0.160621  0.085918  0.186750   \n",
       "bp             -0.245378  0.136316  1.000000 -0.167818  0.123518  0.189561   \n",
       "sg              0.583117 -0.160621 -0.167818  1.000000 -0.478805 -0.296901   \n",
       "al             -0.468924  0.085918  0.123518 -0.478805  1.000000  0.287751   \n",
       "su             -0.247181  0.186750  0.189561 -0.296901  0.287751  1.000000   \n",
       "rbc             0.231457 -0.014904 -0.150384  0.246777 -0.394844 -0.092940   \n",
       "pc              0.335825 -0.102286 -0.156231  0.360787 -0.561713 -0.190062   \n",
       "pcc            -0.264142  0.157401  0.056808 -0.303133  0.417868  0.168091   \n",
       "ba             -0.115955  0.042427  0.110164 -0.232599  0.377935  0.119399   \n",
       "bgr            -0.331484  0.277046  0.180743 -0.351427  0.309609  0.571945   \n",
       "bu             -0.299054  0.194291  0.180841 -0.247404  0.347418  0.126897   \n",
       "sc             -0.263262  0.133985  0.143184 -0.172045  0.161310  0.096434   \n",
       "sod             0.316549 -0.086040 -0.100705  0.209203 -0.225612 -0.051758   \n",
       "pot            -0.071029  0.049399  0.063667 -0.054960  0.107893  0.177396   \n",
       "hemo            0.612087 -0.179011 -0.278639  0.493574 -0.472814 -0.156955   \n",
       "pcv             0.564305 -0.215780 -0.282769  0.498455 -0.472687 -0.182739   \n",
       "wc             -0.245144  0.121262  0.041065 -0.240915  0.214263  0.161569   \n",
       "rc              0.427064 -0.221817 -0.207515  0.396064 -0.392408 -0.160518   \n",
       "htn            -0.520089  0.395073  0.266901 -0.325840  0.406057  0.254268   \n",
       "dm             -0.475106  0.364306  0.226489 -0.353204  0.308101  0.430514   \n",
       "cad            -0.205575  0.231419  0.084135 -0.136490  0.200957  0.229301   \n",
       "appet          -0.374394  0.156581  0.175054 -0.230476  0.303145  0.069216   \n",
       "pe             -0.308120  0.094772  0.056902 -0.247285  0.411080  0.116442   \n",
       "ane            -0.273096  0.052938  0.195134 -0.184261  0.229556  0.042464   \n",
       "classification  0.838528 -0.227842 -0.293693  0.664697 -0.531562 -0.294555   \n",
       "\n",
       "                     rbc        pc       pcc        ba       bgr        bu  \\\n",
       "id              0.231457  0.335825 -0.264142 -0.115955 -0.331484 -0.299054   \n",
       "age            -0.014904 -0.102286  0.157401  0.042427  0.277046  0.194291   \n",
       "bp             -0.150384 -0.156231  0.056808  0.110164  0.180743  0.180841   \n",
       "sg              0.246777  0.360787 -0.303133 -0.232599 -0.351427 -0.247404   \n",
       "al             -0.394844 -0.561713  0.417868  0.377935  0.309609  0.347418   \n",
       "su             -0.092940 -0.190062  0.168091  0.119399  0.571945  0.126897   \n",
       "rbc             1.000000  0.377394 -0.102948 -0.184402 -0.155572 -0.233935   \n",
       "pc              0.377394  1.000000 -0.520118 -0.330401 -0.268854 -0.344501   \n",
       "pcc            -0.102948 -0.520118  1.000000  0.275082  0.199036  0.189094   \n",
       "ba             -0.184402 -0.330401  0.275082  1.000000  0.106539  0.161676   \n",
       "bgr            -0.155572 -0.268854  0.199036  0.106539  1.000000  0.187006   \n",
       "bu             -0.233935 -0.344501  0.189094  0.161676  0.187006  1.000000   \n",
       "sc             -0.135660 -0.158038  0.054429  0.053959  0.128452  0.581517   \n",
       "sod             0.139037  0.171171 -0.138816 -0.082156 -0.137130 -0.308806   \n",
       "pot             0.020473 -0.155434 -0.011416 -0.001944  0.115206  0.339771   \n",
       "hemo            0.282642  0.409747 -0.272992 -0.206947 -0.317428 -0.534979   \n",
       "pcv             0.282795  0.412914 -0.294014 -0.190554 -0.307345 -0.507170   \n",
       "wc             -0.021473 -0.108285  0.158617  0.095966  0.171449  0.054123   \n",
       "rc              0.167988  0.373823 -0.236981 -0.195991 -0.262880 -0.416677   \n",
       "htn            -0.140538 -0.291719  0.195623  0.089046  0.413430  0.395601   \n",
       "dm             -0.145646 -0.201032  0.165236  0.080070  0.543468  0.315958   \n",
       "cad            -0.111493 -0.172295  0.188029  0.162395  0.213740  0.224782   \n",
       "appet          -0.160868 -0.274985  0.189688  0.149126  0.227756  0.274123   \n",
       "pe             -0.199285 -0.350227  0.104356  0.134732  0.161223  0.338740   \n",
       "ane            -0.107625 -0.260566  0.175861  0.052208  0.126816  0.436321   \n",
       "classification  0.282642  0.375154 -0.265313 -0.186871 -0.433411 -0.369393   \n",
       "\n",
       "                      sc       sod       pot      hemo       pcv        wc  \\\n",
       "id             -0.263262  0.316549 -0.071029  0.612087  0.564305 -0.245144   \n",
       "age             0.133985 -0.086040  0.049399 -0.179011 -0.215780  0.121262   \n",
       "bp              0.143184 -0.100705  0.063667 -0.278639 -0.282769  0.041065   \n",
       "sg             -0.172045  0.209203 -0.054960  0.493574  0.498455 -0.240915   \n",
       "al              0.161310 -0.225612  0.107893 -0.472814 -0.472687  0.214263   \n",
       "su              0.096434 -0.051758  0.177396 -0.156955 -0.182739  0.161569   \n",
       "rbc            -0.135660  0.139037  0.020473  0.282642  0.282795 -0.021473   \n",
       "pc             -0.158038  0.171171 -0.155434  0.409747  0.412914 -0.108285   \n",
       "pcc             0.054429 -0.138816 -0.011416 -0.272992 -0.294014  0.158617   \n",
       "ba              0.053959 -0.082156 -0.001944 -0.206947 -0.190554  0.095966   \n",
       "bgr             0.128452 -0.137130  0.115206 -0.317428 -0.307345  0.171449   \n",
       "bu              0.581517 -0.308806  0.339771 -0.534979 -0.507170  0.054123   \n",
       "sc              1.000000 -0.624036  0.204751 -0.341074 -0.330705  0.018355   \n",
       "sod            -0.624036  1.000000  0.069612  0.330702  0.338914 -0.000901   \n",
       "pot             0.204751  0.069612  1.000000 -0.095801 -0.113959 -0.063132   \n",
       "hemo           -0.341074  0.330702 -0.095801  1.000000  0.834597 -0.204234   \n",
       "pcv            -0.330705  0.338914 -0.113959  0.834597  1.000000 -0.206488   \n",
       "wc              0.018355 -0.000901 -0.063132 -0.204234 -0.206488  1.000000   \n",
       "rc             -0.286335  0.308297 -0.086145  0.572394  0.631889 -0.121229   \n",
       "htn             0.282864 -0.306953  0.055840 -0.582306 -0.570000  0.136412   \n",
       "dm              0.209763 -0.264693  0.057615 -0.468689 -0.449080  0.176649   \n",
       "cad             0.195968 -0.221274  0.007551 -0.284629 -0.303513  0.013206   \n",
       "appet           0.162131 -0.158112 -0.019855 -0.388735 -0.372544  0.166525   \n",
       "pe              0.176685 -0.150379  0.061354 -0.379343 -0.378721  0.173172   \n",
       "ane             0.236528 -0.198643  0.100791 -0.554977 -0.508689  0.043807   \n",
       "classification -0.291245  0.334900 -0.065218  0.729831  0.666192 -0.289801   \n",
       "\n",
       "                      rc       htn        dm       cad     appet        pe  \\\n",
       "id              0.427064 -0.520089 -0.475106 -0.205575 -0.374394 -0.308120   \n",
       "age            -0.221817  0.395073  0.364306  0.231419  0.156581  0.094772   \n",
       "bp             -0.207515  0.266901  0.226489  0.084135  0.175054  0.056902   \n",
       "sg              0.396064 -0.325840 -0.353204 -0.136490 -0.230476 -0.247285   \n",
       "al             -0.392408  0.406057  0.308101  0.200957  0.303145  0.411080   \n",
       "su             -0.160518  0.254268  0.430514  0.229301  0.069216  0.116442   \n",
       "rbc             0.167988 -0.140538 -0.145646 -0.111493 -0.160868 -0.199285   \n",
       "pc              0.373823 -0.291719 -0.201032 -0.172295 -0.274985 -0.350227   \n",
       "pcc            -0.236981  0.195623  0.165236  0.188029  0.189688  0.104356   \n",
       "ba             -0.195991  0.089046  0.080070  0.162395  0.149126  0.134732   \n",
       "bgr            -0.262880  0.413430  0.543468  0.213740  0.227756  0.161223   \n",
       "bu             -0.416677  0.395601  0.315958  0.224782  0.274123  0.338740   \n",
       "sc             -0.286335  0.282864  0.209763  0.195968  0.162131  0.176685   \n",
       "sod             0.308297 -0.306953 -0.264693 -0.221274 -0.158112 -0.150379   \n",
       "pot            -0.086145  0.055840  0.057615  0.007551 -0.019855  0.061354   \n",
       "hemo            0.572394 -0.582306 -0.468689 -0.284629 -0.388735 -0.379343   \n",
       "pcv             0.631889 -0.570000 -0.449080 -0.303513 -0.372544 -0.378721   \n",
       "wc             -0.121229  0.136412  0.176649  0.013206  0.166525  0.173172   \n",
       "rc              1.000000 -0.514805 -0.405017 -0.284274 -0.335769 -0.275874   \n",
       "htn            -0.514805  1.000000  0.608118  0.325479  0.345070  0.371026   \n",
       "dm             -0.405017  0.608118  1.000000  0.271172  0.325134  0.308463   \n",
       "cad            -0.284274  0.325479  0.271172  1.000000  0.156104  0.172295   \n",
       "appet          -0.335769  0.345070  0.325134  0.156104  1.000000  0.417055   \n",
       "pe             -0.275874  0.371026  0.308463  0.172295  0.417055  1.000000   \n",
       "ane            -0.326316  0.347802  0.183686  0.047700  0.254942  0.207025   \n",
       "classification  0.468618 -0.590438 -0.559060 -0.236088 -0.393341 -0.375154   \n",
       "\n",
       "                     ane  classification  \n",
       "id             -0.273096        0.838528  \n",
       "age             0.052938       -0.227842  \n",
       "bp              0.195134       -0.293693  \n",
       "sg             -0.184261        0.664697  \n",
       "al              0.229556       -0.531562  \n",
       "su              0.042464       -0.294555  \n",
       "rbc            -0.107625        0.282642  \n",
       "pc             -0.260566        0.375154  \n",
       "pcc             0.175861       -0.265313  \n",
       "ba              0.052208       -0.186871  \n",
       "bgr             0.126816       -0.433411  \n",
       "bu              0.436321       -0.369393  \n",
       "sc              0.236528       -0.291245  \n",
       "sod            -0.198643        0.334900  \n",
       "pot             0.100791       -0.065218  \n",
       "hemo           -0.554977        0.729831  \n",
       "pcv            -0.508689        0.666192  \n",
       "wc              0.043807       -0.289801  \n",
       "rc             -0.326316        0.468618  \n",
       "htn             0.347802       -0.590438  \n",
       "dm              0.183686       -0.559060  \n",
       "cad             0.047700       -0.236088  \n",
       "appet           0.254942       -0.393341  \n",
       "pe              0.207025       -0.375154  \n",
       "ane             1.000000       -0.325396  \n",
       "classification -0.325396        1.000000  "
      ]
     },
     "execution_count": 84,
     "metadata": {},
     "output_type": "execute_result"
    }
   ],
   "source": [
    "df.corr()"
   ]
  },
  {
   "cell_type": "code",
   "execution_count": 85,
   "id": "18de2790-a616-4ec6-aee1-c68e128d77a8",
   "metadata": {},
   "outputs": [],
   "source": [
    "features_scale = [\"hemo\", \"sg\", \"pcv\", \"rc\", \"pc\", \"htn\", \"dm\", \"al\", \"appet\", \"bgr\"]"
   ]
  },
  {
   "cell_type": "code",
   "execution_count": 86,
   "id": "f8b7e2ef-b0e9-4126-ad18-d8fb74c4505c",
   "metadata": {},
   "outputs": [],
   "source": [
    "scaler = MinMaxScaler()"
   ]
  },
  {
   "cell_type": "code",
   "execution_count": 88,
   "id": "469b498b-1c18-41cc-884a-16ed2c1b94c2",
   "metadata": {},
   "outputs": [],
   "source": [
    "#featurs \n",
    "df_scaled = df.copy()\n",
    "df_scaled[features_scale] = scaler.fit_transform(df[features_scale])"
   ]
  },
  {
   "cell_type": "code",
   "execution_count": 89,
   "id": "689a6de1-a2b3-4f82-a01b-a80b33329bec",
   "metadata": {},
   "outputs": [],
   "source": [
    "#featurs \n",
    "X_scaled = df_scaled[features_scale]"
   ]
  },
  {
   "cell_type": "code",
   "execution_count": 90,
   "id": "6b6cf0fb-490b-4eb1-9e24-b91d1e3fb511",
   "metadata": {},
   "outputs": [
    {
     "name": "stdout",
     "output_type": "stream",
     "text": [
      "       hemo        sg       pcv        rc   pc  htn   dm   al  appet       bgr\n",
      "0  0.808765  0.714286  0.714286  0.625000  1.0  1.0  1.0  0.2    0.0  0.477041\n",
      "1  0.482072  0.714286  0.542857  0.625000  1.0  0.0  0.0  0.8    0.0  0.477041\n",
      "2  0.346614  0.142857  0.342857  0.625000  1.0  0.0  1.0  0.4    1.0  1.000000\n",
      "3  0.474104  0.000000  0.371429  0.160714  0.0  1.0  0.0  0.8    1.0  0.456633\n",
      "4  0.505976  0.142857  0.457143  0.410714  1.0  0.0  0.0  0.4    0.0  0.400510\n"
     ]
    }
   ],
   "source": [
    "print(X_scaled.head())"
   ]
  },
  {
   "cell_type": "code",
   "execution_count": 91,
   "id": "36e1ae9a-a986-462c-846b-a75f7eca5daa",
   "metadata": {},
   "outputs": [],
   "source": [
    "#features \n",
    "X = X_scaled"
   ]
  },
  {
   "cell_type": "code",
   "execution_count": 92,
   "id": "59e85a95-e63a-4370-8e37-da9a0524cd00",
   "metadata": {},
   "outputs": [
    {
     "data": {
      "text/plain": [
       "pandas.core.frame.DataFrame"
      ]
     },
     "execution_count": 92,
     "metadata": {},
     "output_type": "execute_result"
    }
   ],
   "source": [
    "type(X_scaled)"
   ]
  },
  {
   "cell_type": "code",
   "execution_count": 107,
   "id": "56187365-9248-4a0b-b7e8-bf9fccb4c841",
   "metadata": {},
   "outputs": [
    {
     "data": {
      "text/plain": [
       "hemo     0\n",
       "sg       0\n",
       "pcv      0\n",
       "rc       0\n",
       "pc       0\n",
       "htn      0\n",
       "dm       0\n",
       "al       0\n",
       "appet    0\n",
       "bgr      0\n",
       "dtype: int64"
      ]
     },
     "execution_count": 107,
     "metadata": {},
     "output_type": "execute_result"
    }
   ],
   "source": [
    "X.isnull().sum()"
   ]
  },
  {
   "cell_type": "code",
   "execution_count": 106,
   "id": "cc810f50-1e78-404f-8536-bbcc14d49cc5",
   "metadata": {},
   "outputs": [
    {
     "name": "stderr",
     "output_type": "stream",
     "text": [
      "C:\\Users\\ragu\\AppData\\Local\\Temp\\ipykernel_13664\\3576685044.py:1: SettingWithCopyWarning: \n",
      "A value is trying to be set on a copy of a slice from a DataFrame.\n",
      "Try using .loc[row_indexer,col_indexer] = value instead\n",
      "\n",
      "See the caveats in the documentation: https://pandas.pydata.org/pandas-docs/stable/user_guide/indexing.html#returning-a-view-versus-a-copy\n",
      "  X[\"rc\"] = X[\"rc\"].fillna(X[\"rc\"].median())\n"
     ]
    }
   ],
   "source": [
    "X[\"rc\"] = X[\"rc\"].fillna(X[\"rc\"].median())"
   ]
  },
  {
   "cell_type": "code",
   "execution_count": 93,
   "id": "cdd6ee6a-cd78-4538-810b-9ef101a45026",
   "metadata": {},
   "outputs": [
    {
     "data": {
      "text/plain": [
       "pandas.core.series.Series"
      ]
     },
     "execution_count": 93,
     "metadata": {},
     "output_type": "execute_result"
    }
   ],
   "source": [
    "type(y)"
   ]
  },
  {
   "cell_type": "code",
   "execution_count": 44,
   "id": "54936edf-ff22-4611-8d64-a4a135e69e6f",
   "metadata": {},
   "outputs": [],
   "source": [
    "# X_scaled = featurs\n",
    "# y_traget = target "
   ]
  },
  {
   "cell_type": "code",
   "execution_count": 94,
   "id": "0d3eeb97-d873-4610-94b5-5c52b7cba9c6",
   "metadata": {},
   "outputs": [
    {
     "name": "stdout",
     "output_type": "stream",
     "text": [
      "X shape: (400, 10), y shape: (400,)\n"
     ]
    }
   ],
   "source": [
    "print(f\"X shape: {X.shape}, y shape: {y.shape}\")  # Debugging\n",
    "\n",
    "if len(X) != len(y):\n",
    "    y = y.iloc[:len(X)]  # Ensure y has the same length as X\n"
   ]
  },
  {
   "cell_type": "code",
   "execution_count": 96,
   "id": "b7e6884c-d088-4f04-bfe9-539f9470e529",
   "metadata": {},
   "outputs": [
    {
     "name": "stdout",
     "output_type": "stream",
     "text": [
      "<class 'pandas.core.frame.DataFrame'>\n",
      "<class 'pandas.core.series.Series'>\n"
     ]
    }
   ],
   "source": [
    "print(type(X))\n",
    "print(type(y))"
   ]
  },
  {
   "cell_type": "code",
   "execution_count": 97,
   "id": "214835ae-5b39-4b23-959d-ace590ae967f",
   "metadata": {},
   "outputs": [],
   "source": [
    "# Split into train and test sets (80% train, 20% test)\n",
    "x_train, x_test, y_train, y_test = train_test_split(X, y, test_size=0.2, random_state=42)"
   ]
  },
  {
   "cell_type": "code",
   "execution_count": 98,
   "id": "190050ac-9f99-4c50-80a8-adf04549a34c",
   "metadata": {},
   "outputs": [],
   "source": [
    "Lr = LogisticRegression(random_state=0)"
   ]
  },
  {
   "cell_type": "code",
   "execution_count": 108,
   "id": "4ce67611-4679-415a-8fcd-7a8d335e8512",
   "metadata": {},
   "outputs": [],
   "source": [
    "logreg = Lr.fit(X, y)"
   ]
  },
  {
   "cell_type": "code",
   "execution_count": 133,
   "id": "b18e4ed2-5e23-4442-bae4-6bd72710a31a",
   "metadata": {},
   "outputs": [
    {
     "name": "stdout",
     "output_type": "stream",
     "text": [
      "Accuracy: 0.6500\n"
     ]
    }
   ],
   "source": [
    "y_pred = logreg.predict(x_test)  # Predict using test data\n",
    "accuracy = accuracy_score(y_test, y_pred)\n",
    "print(f\"Accuracy: {accuracy:.4f}\")"
   ]
  },
  {
   "cell_type": "code",
   "execution_count": 132,
   "id": "d62273f7-5e78-48f8-98fe-4e4b7423e014",
   "metadata": {
    "scrolled": true
   },
   "outputs": [
    {
     "name": "stdout",
     "output_type": "stream",
     "text": [
      "Accuracy: 0.9850\n",
      "Classification Report:\n",
      "               precision    recall  f1-score   support\n",
      "\n",
      "           0       1.00      0.98      0.99       250\n",
      "           1       0.96      1.00      0.98       150\n",
      "\n",
      "    accuracy                           0.98       400\n",
      "   macro avg       0.98      0.99      0.98       400\n",
      "weighted avg       0.99      0.98      0.99       400\n",
      "\n",
      "Confusion Matrix:\n",
      " [[244   6]\n",
      " [  0 150]]\n"
     ]
    }
   ],
   "source": [
    "from sklearn.metrics import classification_report, accuracy_score, confusion_matrix\n",
    "\n",
    "y_pred = Lr.predict(X)  # Use trained model to predict\n",
    "\n",
    "print(f\"Accuracy: {accuracy_score(y, y_pred):.4f}\")\n",
    "print(\"Classification Report:\\n\", classification_report(y, y_pred))\n",
    "print(\"Confusion Matrix:\\n\", confusion_matrix(y, y_pred))"
   ]
  },
  {
   "cell_type": "code",
   "execution_count": 134,
   "id": "9e94a333-687c-4da5-8fec-d6e9a7a9c954",
   "metadata": {},
   "outputs": [
    {
     "name": "stdout",
     "output_type": "stream",
     "text": [
      "Loaded Model Accuracy: 0.9850\n"
     ]
    }
   ],
   "source": [
    "import joblib\n",
    "\n",
    "# Save the model\n",
    "joblib.dump(Lr, \"logistic_regression_model.pkl\")\n",
    "\n",
    "# Load the model (when needed)\n",
    "loaded_model = joblib.load(\"logistic_regression_model.pkl\")\n",
    "\n",
    "# Test the loaded model\n",
    "y_pred_loaded = loaded_model.predict(X)\n",
    "print(f\"Loaded Model Accuracy: {accuracy_score(y, y_pred_loaded):.4f}\")"
   ]
  },
  {
   "cell_type": "code",
   "execution_count": null,
   "id": "8566acb5-5536-4947-b72e-0dfcab9c22a2",
   "metadata": {},
   "outputs": [],
   "source": [
    " Load the saved model\n",
    "loaded_model = joblib.load('random_forest_model.pkl')\n",
    "\n",
    "# Use the loaded model for predictions\n",
    "y_pred = loaded_model.predict(x_test)"
   ]
  }
 ],
 "metadata": {
  "kernelspec": {
   "display_name": "Python 3 (ipykernel)",
   "language": "python",
   "name": "python3"
  },
  "language_info": {
   "codemirror_mode": {
    "name": "ipython",
    "version": 3
   },
   "file_extension": ".py",
   "mimetype": "text/x-python",
   "name": "python",
   "nbconvert_exporter": "python",
   "pygments_lexer": "ipython3",
   "version": "3.12.3"
  }
 },
 "nbformat": 4,
 "nbformat_minor": 5
}
